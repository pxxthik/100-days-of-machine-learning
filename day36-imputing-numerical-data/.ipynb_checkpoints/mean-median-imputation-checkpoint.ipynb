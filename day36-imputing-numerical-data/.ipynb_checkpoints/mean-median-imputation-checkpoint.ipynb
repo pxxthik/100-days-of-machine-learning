{
 "cells": [
  {
   "cell_type": "code",
   "execution_count": 1,
   "metadata": {},
   "outputs": [],
   "source": [
    "import pandas as pd\n",
    "import numpy as np\n",
    "import matplotlib.pyplot as plt"
   ]
  },
  {
   "cell_type": "code",
   "execution_count": 2,
   "metadata": {},
   "outputs": [],
   "source": [
    "from sklearn.model_selection import train_test_split\n",
    "from sklearn.impute import SimpleImputer\n",
    "from sklearn.compose import ColumnTransformer"
   ]
  },
  {
   "cell_type": "code",
   "execution_count": 3,
   "metadata": {},
   "outputs": [],
   "source": [
    "df = pd.read_csv('titanic_toy.csv')"
   ]
  },
  {
   "cell_type": "code",
   "execution_count": 4,
   "metadata": {},
   "outputs": [
    {
     "data": {
      "text/html": [
       "<div>\n",
       "<style scoped>\n",
       "    .dataframe tbody tr th:only-of-type {\n",
       "        vertical-align: middle;\n",
       "    }\n",
       "\n",
       "    .dataframe tbody tr th {\n",
       "        vertical-align: top;\n",
       "    }\n",
       "\n",
       "    .dataframe thead th {\n",
       "        text-align: right;\n",
       "    }\n",
       "</style>\n",
       "<table border=\"1\" class=\"dataframe\">\n",
       "  <thead>\n",
       "    <tr style=\"text-align: right;\">\n",
       "      <th></th>\n",
       "      <th>Age</th>\n",
       "      <th>Fare</th>\n",
       "      <th>Family</th>\n",
       "      <th>Survived</th>\n",
       "    </tr>\n",
       "  </thead>\n",
       "  <tbody>\n",
       "    <tr>\n",
       "      <th>0</th>\n",
       "      <td>22.0</td>\n",
       "      <td>7.2500</td>\n",
       "      <td>1</td>\n",
       "      <td>0</td>\n",
       "    </tr>\n",
       "    <tr>\n",
       "      <th>1</th>\n",
       "      <td>38.0</td>\n",
       "      <td>71.2833</td>\n",
       "      <td>1</td>\n",
       "      <td>1</td>\n",
       "    </tr>\n",
       "    <tr>\n",
       "      <th>2</th>\n",
       "      <td>26.0</td>\n",
       "      <td>7.9250</td>\n",
       "      <td>0</td>\n",
       "      <td>1</td>\n",
       "    </tr>\n",
       "    <tr>\n",
       "      <th>3</th>\n",
       "      <td>35.0</td>\n",
       "      <td>53.1000</td>\n",
       "      <td>1</td>\n",
       "      <td>1</td>\n",
       "    </tr>\n",
       "    <tr>\n",
       "      <th>4</th>\n",
       "      <td>35.0</td>\n",
       "      <td>8.0500</td>\n",
       "      <td>0</td>\n",
       "      <td>0</td>\n",
       "    </tr>\n",
       "  </tbody>\n",
       "</table>\n",
       "</div>"
      ],
      "text/plain": [
       "    Age     Fare  Family  Survived\n",
       "0  22.0   7.2500       1         0\n",
       "1  38.0  71.2833       1         1\n",
       "2  26.0   7.9250       0         1\n",
       "3  35.0  53.1000       1         1\n",
       "4  35.0   8.0500       0         0"
      ]
     },
     "execution_count": 4,
     "metadata": {},
     "output_type": "execute_result"
    }
   ],
   "source": [
    "df.head()"
   ]
  },
  {
   "cell_type": "code",
   "execution_count": 5,
   "metadata": {},
   "outputs": [
    {
     "name": "stdout",
     "output_type": "stream",
     "text": [
      "<class 'pandas.core.frame.DataFrame'>\n",
      "RangeIndex: 891 entries, 0 to 890\n",
      "Data columns (total 4 columns):\n",
      " #   Column    Non-Null Count  Dtype  \n",
      "---  ------    --------------  -----  \n",
      " 0   Age       714 non-null    float64\n",
      " 1   Fare      846 non-null    float64\n",
      " 2   Family    891 non-null    int64  \n",
      " 3   Survived  891 non-null    int64  \n",
      "dtypes: float64(2), int64(2)\n",
      "memory usage: 28.0 KB\n"
     ]
    }
   ],
   "source": [
    "df.info()"
   ]
  },
  {
   "cell_type": "code",
   "execution_count": 6,
   "metadata": {},
   "outputs": [
    {
     "data": {
      "text/plain": [
       "Age         0.198653\n",
       "Fare        0.050505\n",
       "Family      0.000000\n",
       "Survived    0.000000\n",
       "dtype: float64"
      ]
     },
     "execution_count": 6,
     "metadata": {},
     "output_type": "execute_result"
    }
   ],
   "source": [
    "df.isnull().mean()"
   ]
  },
  {
   "cell_type": "code",
   "execution_count": 7,
   "metadata": {},
   "outputs": [],
   "source": [
    "X = df.drop(columns=['Survived'])\n",
    "y = df['Survived']"
   ]
  },
  {
   "cell_type": "code",
   "execution_count": 8,
   "metadata": {},
   "outputs": [],
   "source": [
    "X_train,X_test,y_train,y_test = train_test_split(X,y,test_size=0.2,random_state=2)"
   ]
  },
  {
   "cell_type": "code",
   "execution_count": 9,
   "metadata": {},
   "outputs": [
    {
     "data": {
      "text/plain": [
       "((712, 3), (179, 3))"
      ]
     },
     "execution_count": 9,
     "metadata": {},
     "output_type": "execute_result"
    }
   ],
   "source": [
    "X_train.shape, X_test.shape"
   ]
  },
  {
   "cell_type": "code",
   "execution_count": 10,
   "metadata": {},
   "outputs": [
    {
     "data": {
      "text/plain": [
       "Age       0.207865\n",
       "Fare      0.050562\n",
       "Family    0.000000\n",
       "dtype: float64"
      ]
     },
     "execution_count": 10,
     "metadata": {},
     "output_type": "execute_result"
    }
   ],
   "source": [
    "X_train.isnull().mean()"
   ]
  },
  {
   "cell_type": "code",
   "execution_count": 11,
   "metadata": {},
   "outputs": [],
   "source": [
    "mean_age = X_train['Age'].mean()\n",
    "median_age = X_train['Age'].median()\n",
    "\n",
    "mean_fare = X_train['Fare'].mean()\n",
    "median_fare = X_train['Fare'].median()"
   ]
  },
  {
   "cell_type": "code",
   "execution_count": 12,
   "metadata": {},
   "outputs": [],
   "source": [
    "X_train['Age_median'] = X_train['Age'].fillna(median_age)\n",
    "X_train['Age_mean'] = X_train['Age'].fillna(mean_age)\n",
    "\n",
    "X_train['Fare_median'] = X_train['Fare'].fillna(median_fare)\n",
    "X_train['Fare_mean'] = X_train['Fare'].fillna(mean_fare)"
   ]
  },
  {
   "cell_type": "code",
   "execution_count": 13,
   "metadata": {},
   "outputs": [
    {
     "data": {
      "text/html": [
       "<div>\n",
       "<style scoped>\n",
       "    .dataframe tbody tr th:only-of-type {\n",
       "        vertical-align: middle;\n",
       "    }\n",
       "\n",
       "    .dataframe tbody tr th {\n",
       "        vertical-align: top;\n",
       "    }\n",
       "\n",
       "    .dataframe thead th {\n",
       "        text-align: right;\n",
       "    }\n",
       "</style>\n",
       "<table border=\"1\" class=\"dataframe\">\n",
       "  <thead>\n",
       "    <tr style=\"text-align: right;\">\n",
       "      <th></th>\n",
       "      <th>Age</th>\n",
       "      <th>Fare</th>\n",
       "      <th>Family</th>\n",
       "      <th>Age_median</th>\n",
       "      <th>Age_mean</th>\n",
       "      <th>Fare_median</th>\n",
       "      <th>Fare_mean</th>\n",
       "    </tr>\n",
       "  </thead>\n",
       "  <tbody>\n",
       "    <tr>\n",
       "      <th>677</th>\n",
       "      <td>18.0</td>\n",
       "      <td>9.8417</td>\n",
       "      <td>0</td>\n",
       "      <td>18.00</td>\n",
       "      <td>18.000000</td>\n",
       "      <td>9.8417</td>\n",
       "      <td>9.841700</td>\n",
       "    </tr>\n",
       "    <tr>\n",
       "      <th>456</th>\n",
       "      <td>65.0</td>\n",
       "      <td>26.5500</td>\n",
       "      <td>0</td>\n",
       "      <td>65.00</td>\n",
       "      <td>65.000000</td>\n",
       "      <td>26.5500</td>\n",
       "      <td>26.550000</td>\n",
       "    </tr>\n",
       "    <tr>\n",
       "      <th>718</th>\n",
       "      <td>NaN</td>\n",
       "      <td>15.5000</td>\n",
       "      <td>0</td>\n",
       "      <td>28.75</td>\n",
       "      <td>29.785904</td>\n",
       "      <td>15.5000</td>\n",
       "      <td>15.500000</td>\n",
       "    </tr>\n",
       "    <tr>\n",
       "      <th>82</th>\n",
       "      <td>NaN</td>\n",
       "      <td>NaN</td>\n",
       "      <td>0</td>\n",
       "      <td>28.75</td>\n",
       "      <td>29.785904</td>\n",
       "      <td>14.4583</td>\n",
       "      <td>32.617597</td>\n",
       "    </tr>\n",
       "    <tr>\n",
       "      <th>433</th>\n",
       "      <td>17.0</td>\n",
       "      <td>7.1250</td>\n",
       "      <td>0</td>\n",
       "      <td>17.00</td>\n",
       "      <td>17.000000</td>\n",
       "      <td>7.1250</td>\n",
       "      <td>7.125000</td>\n",
       "    </tr>\n",
       "  </tbody>\n",
       "</table>\n",
       "</div>"
      ],
      "text/plain": [
       "      Age     Fare  Family  Age_median   Age_mean  Fare_median  Fare_mean\n",
       "677  18.0   9.8417       0       18.00  18.000000       9.8417   9.841700\n",
       "456  65.0  26.5500       0       65.00  65.000000      26.5500  26.550000\n",
       "718   NaN  15.5000       0       28.75  29.785904      15.5000  15.500000\n",
       "82    NaN      NaN       0       28.75  29.785904      14.4583  32.617597\n",
       "433  17.0   7.1250       0       17.00  17.000000       7.1250   7.125000"
      ]
     },
     "execution_count": 13,
     "metadata": {},
     "output_type": "execute_result"
    }
   ],
   "source": [
    "X_train.sample(5)"
   ]
  },
  {
   "cell_type": "code",
   "execution_count": 14,
   "metadata": {},
   "outputs": [
    {
     "name": "stdout",
     "output_type": "stream",
     "text": [
      "Original Age variable variance:  204.34951339046142\n",
      "Age Variance after median imputation:  161.98956633460548\n",
      "Age Variance after mean imputation:  161.81262452718676\n",
      "Original Fare variable variance:  2448.1979137063163\n",
      "Fare Variance after median imputation:  2340.09102197536\n",
      "Fare Variance after mean imputation:  2324.2385256705534\n"
     ]
    }
   ],
   "source": [
    "print('Original Age variable variance: ', X_train['Age'].var())\n",
    "print('Age Variance after median imputation: ', X_train['Age_median'].var())\n",
    "print('Age Variance after mean imputation: ', X_train['Age_mean'].var())\n",
    "\n",
    "print('Original Fare variable variance: ', X_train['Fare'].var())\n",
    "print('Fare Variance after median imputation: ', X_train['Fare_median'].var())\n",
    "print('Fare Variance after mean imputation: ', X_train['Fare_mean'].var())"
   ]
  },
  {
   "cell_type": "code",
   "execution_count": 15,
   "metadata": {},
   "outputs": [
    {
     "data": {
      "text/plain": [
       "<matplotlib.legend.Legend at 0x130d0c1c6a0>"
      ]
     },
     "execution_count": 15,
     "metadata": {},
     "output_type": "execute_result"
    },
    {
     "data": {
      "image/png": "[encoded data removed]",
      "text/plain": [
       "<Figure size 640x480 with 1 Axes>"
      ]
     },
     "metadata": {},
     "output_type": "display_data"
    }
   ],
   "source": [
    "fig = plt.figure()\n",
    "ax = fig.add_subplot(111)\n",
    "\n",
    "# original variable distribution\n",
    "X_train['Age'].plot(kind='kde', ax=ax)\n",
    "\n",
    "# variable imputed with the median\n",
    "X_train['Age_median'].plot(kind='kde', ax=ax, color='red')\n",
    "\n",
    "# variable imputed with the mean\n",
    "X_train['Age_mean'].plot(kind='kde', ax=ax, color='green')\n",
    "\n",
    "# add legends\n",
    "lines, labels = ax.get_legend_handles_labels()\n",
    "ax.legend(lines, labels, loc='best')"
   ]
  },
  {
   "cell_type": "code",
   "execution_count": 16,
   "metadata": {},
   "outputs": [
    {
     "data": {
      "text/plain": [
       "<matplotlib.legend.Legend at 0x130d4ed5180>"
      ]
     },
     "execution_count": 16,
     "metadata": {},
     "output_type": "execute_result"
    },
    {
     "data": {
      "image/png": "[encoded data removed]",
      "text/plain": [
       "<Figure size 640x480 with 1 Axes>"
      ]
     },
     "metadata": {},
     "output_type": "display_data"
    }
   ],
   "source": [
    "fig = plt.figure()\n",
    "ax = fig.add_subplot(111)\n",
    "\n",
    "# original variable distribution\n",
    "X_train['Fare'].plot(kind='kde', ax=ax)\n",
    "\n",
    "# variable imputed with the median\n",
    "X_train['Fare_median'].plot(kind='kde', ax=ax, color='red')\n",
    "\n",
    "# variable imputed with the mean\n",
    "X_train['Fare_mean'].plot(kind='kde', ax=ax, color='green')\n",
    "\n",
    "# add legends\n",
    "lines, labels = ax.get_legend_handles_labels()\n",
    "ax.legend(lines, labels, loc='best')"
   ]
  },
  {
   "cell_type": "code",
   "execution_count": 17,
   "metadata": {},
   "outputs": [
    {
     "data": {
      "text/html": [
       "<div>\n",
       "<style scoped>\n",
       "    .dataframe tbody tr th:only-of-type {\n",
       "        vertical-align: middle;\n",
       "    }\n",
       "\n",
       "    .dataframe tbody tr th {\n",
       "        vertical-align: top;\n",
       "    }\n",
       "\n",
       "    .dataframe thead th {\n",
       "        text-align: right;\n",
       "    }\n",
       "</style>\n",
       "<table border=\"1\" class=\"dataframe\">\n",
       "  <thead>\n",
       "    <tr style=\"text-align: right;\">\n",
       "      <th></th>\n",
       "      <th>Age</th>\n",
       "      <th>Fare</th>\n",
       "      <th>Family</th>\n",
       "      <th>Age_median</th>\n",
       "      <th>Age_mean</th>\n",
       "      <th>Fare_median</th>\n",
       "      <th>Fare_mean</th>\n",
       "    </tr>\n",
       "  </thead>\n",
       "  <tbody>\n",
       "    <tr>\n",
       "      <th>Age</th>\n",
       "      <td>204.349513</td>\n",
       "      <td>70.719262</td>\n",
       "      <td>-6.498901</td>\n",
       "      <td>204.349513</td>\n",
       "      <td>204.349513</td>\n",
       "      <td>64.858859</td>\n",
       "      <td>66.665205</td>\n",
       "    </tr>\n",
       "    <tr>\n",
       "      <th>Fare</th>\n",
       "      <td>70.719262</td>\n",
       "      <td>2448.197914</td>\n",
       "      <td>17.258917</td>\n",
       "      <td>57.957599</td>\n",
       "      <td>55.603719</td>\n",
       "      <td>2448.197914</td>\n",
       "      <td>2448.197914</td>\n",
       "    </tr>\n",
       "    <tr>\n",
       "      <th>Family</th>\n",
       "      <td>-6.498901</td>\n",
       "      <td>17.258917</td>\n",
       "      <td>2.735252</td>\n",
       "      <td>-5.112563</td>\n",
       "      <td>-5.146106</td>\n",
       "      <td>16.476305</td>\n",
       "      <td>16.385048</td>\n",
       "    </tr>\n",
       "    <tr>\n",
       "      <th>Age_median</th>\n",
       "      <td>204.349513</td>\n",
       "      <td>57.957599</td>\n",
       "      <td>-5.112563</td>\n",
       "      <td>161.989566</td>\n",
       "      <td>161.812625</td>\n",
       "      <td>53.553455</td>\n",
       "      <td>55.023037</td>\n",
       "    </tr>\n",
       "    <tr>\n",
       "      <th>Age_mean</th>\n",
       "      <td>204.349513</td>\n",
       "      <td>55.603719</td>\n",
       "      <td>-5.146106</td>\n",
       "      <td>161.812625</td>\n",
       "      <td>161.812625</td>\n",
       "      <td>51.358000</td>\n",
       "      <td>52.788341</td>\n",
       "    </tr>\n",
       "    <tr>\n",
       "      <th>Fare_median</th>\n",
       "      <td>64.858859</td>\n",
       "      <td>2448.197914</td>\n",
       "      <td>16.476305</td>\n",
       "      <td>53.553455</td>\n",
       "      <td>51.358000</td>\n",
       "      <td>2340.091022</td>\n",
       "      <td>2324.238526</td>\n",
       "    </tr>\n",
       "    <tr>\n",
       "      <th>Fare_mean</th>\n",
       "      <td>66.665205</td>\n",
       "      <td>2448.197914</td>\n",
       "      <td>16.385048</td>\n",
       "      <td>55.023037</td>\n",
       "      <td>52.788341</td>\n",
       "      <td>2324.238526</td>\n",
       "      <td>2324.238526</td>\n",
       "    </tr>\n",
       "  </tbody>\n",
       "</table>\n",
       "</div>"
      ],
      "text/plain": [
       "                    Age         Fare     Family  Age_median    Age_mean  \\\n",
       "Age          204.349513    70.719262  -6.498901  204.349513  204.349513   \n",
       "Fare          70.719262  2448.197914  17.258917   57.957599   55.603719   \n",
       "Family        -6.498901    17.258917   2.735252   -5.112563   -5.146106   \n",
       "Age_median   204.349513    57.957599  -5.112563  161.989566  161.812625   \n",
       "Age_mean     204.349513    55.603719  -5.146106  161.812625  161.812625   \n",
       "Fare_median   64.858859  2448.197914  16.476305   53.553455   51.358000   \n",
       "Fare_mean     66.665205  2448.197914  16.385048   55.023037   52.788341   \n",
       "\n",
       "             Fare_median    Fare_mean  \n",
       "Age            64.858859    66.665205  \n",
       "Fare         2448.197914  2448.197914  \n",
       "Family         16.476305    16.385048  \n",
       "Age_median     53.553455    55.023037  \n",
       "Age_mean       51.358000    52.788341  \n",
       "Fare_median  2340.091022  2324.238526  \n",
       "Fare_mean    2324.238526  2324.238526  "
      ]
     },
     "execution_count": 17,
     "metadata": {},
     "output_type": "execute_result"
    }
   ],
   "source": [
    "X_train.cov()"
   ]
  },
  {
   "cell_type": "code",
   "execution_count": 18,
   "metadata": {},
   "outputs": [
    {
     "data": {
      "text/html": [
       "<div>\n",
       "<style scoped>\n",
       "    .dataframe tbody tr th:only-of-type {\n",
       "        vertical-align: middle;\n",
       "    }\n",
       "\n",
       "    .dataframe tbody tr th {\n",
       "        vertical-align: top;\n",
       "    }\n",
       "\n",
       "    .dataframe thead th {\n",
       "        text-align: right;\n",
       "    }\n",
       "</style>\n",
       "<table border=\"1\" class=\"dataframe\">\n",
       "  <thead>\n",
       "    <tr style=\"text-align: right;\">\n",
       "      <th></th>\n",
       "      <th>Age</th>\n",
       "      <th>Fare</th>\n",
       "      <th>Family</th>\n",
       "      <th>Age_median</th>\n",
       "      <th>Age_mean</th>\n",
       "      <th>Fare_median</th>\n",
       "      <th>Fare_mean</th>\n",
       "    </tr>\n",
       "  </thead>\n",
       "  <tbody>\n",
       "    <tr>\n",
       "      <th>Age</th>\n",
       "      <td>1.000000</td>\n",
       "      <td>0.092644</td>\n",
       "      <td>-0.299113</td>\n",
       "      <td>1.000000</td>\n",
       "      <td>1.000000</td>\n",
       "      <td>0.087356</td>\n",
       "      <td>0.090156</td>\n",
       "    </tr>\n",
       "    <tr>\n",
       "      <th>Fare</th>\n",
       "      <td>0.092644</td>\n",
       "      <td>1.000000</td>\n",
       "      <td>0.208268</td>\n",
       "      <td>0.091757</td>\n",
       "      <td>0.088069</td>\n",
       "      <td>1.000000</td>\n",
       "      <td>1.000000</td>\n",
       "    </tr>\n",
       "    <tr>\n",
       "      <th>Family</th>\n",
       "      <td>-0.299113</td>\n",
       "      <td>0.208268</td>\n",
       "      <td>1.000000</td>\n",
       "      <td>-0.242883</td>\n",
       "      <td>-0.244610</td>\n",
       "      <td>0.205942</td>\n",
       "      <td>0.205499</td>\n",
       "    </tr>\n",
       "    <tr>\n",
       "      <th>Age_median</th>\n",
       "      <td>1.000000</td>\n",
       "      <td>0.091757</td>\n",
       "      <td>-0.242883</td>\n",
       "      <td>1.000000</td>\n",
       "      <td>0.999454</td>\n",
       "      <td>0.086982</td>\n",
       "      <td>0.089673</td>\n",
       "    </tr>\n",
       "    <tr>\n",
       "      <th>Age_mean</th>\n",
       "      <td>1.000000</td>\n",
       "      <td>0.088069</td>\n",
       "      <td>-0.244610</td>\n",
       "      <td>0.999454</td>\n",
       "      <td>1.000000</td>\n",
       "      <td>0.083461</td>\n",
       "      <td>0.086078</td>\n",
       "    </tr>\n",
       "    <tr>\n",
       "      <th>Fare_median</th>\n",
       "      <td>0.087356</td>\n",
       "      <td>1.000000</td>\n",
       "      <td>0.205942</td>\n",
       "      <td>0.086982</td>\n",
       "      <td>0.083461</td>\n",
       "      <td>1.000000</td>\n",
       "      <td>0.996607</td>\n",
       "    </tr>\n",
       "    <tr>\n",
       "      <th>Fare_mean</th>\n",
       "      <td>0.090156</td>\n",
       "      <td>1.000000</td>\n",
       "      <td>0.205499</td>\n",
       "      <td>0.089673</td>\n",
       "      <td>0.086078</td>\n",
       "      <td>0.996607</td>\n",
       "      <td>1.000000</td>\n",
       "    </tr>\n",
       "  </tbody>\n",
       "</table>\n",
       "</div>"
      ],
      "text/plain": [
       "                  Age      Fare    Family  Age_median  Age_mean  Fare_median  \\\n",
       "Age          1.000000  0.092644 -0.299113    1.000000  1.000000     0.087356   \n",
       "Fare         0.092644  1.000000  0.208268    0.091757  0.088069     1.000000   \n",
       "Family      -0.299113  0.208268  1.000000   -0.242883 -0.244610     0.205942   \n",
       "Age_median   1.000000  0.091757 -0.242883    1.000000  0.999454     0.086982   \n",
       "Age_mean     1.000000  0.088069 -0.244610    0.999454  1.000000     0.083461   \n",
       "Fare_median  0.087356  1.000000  0.205942    0.086982  0.083461     1.000000   \n",
       "Fare_mean    0.090156  1.000000  0.205499    0.089673  0.086078     0.996607   \n",
       "\n",
       "             Fare_mean  \n",
       "Age           0.090156  \n",
       "Fare          1.000000  \n",
       "Family        0.205499  \n",
       "Age_median    0.089673  \n",
       "Age_mean      0.086078  \n",
       "Fare_median   0.996607  \n",
       "Fare_mean     1.000000  "
      ]
     },
     "execution_count": 18,
     "metadata": {},
     "output_type": "execute_result"
    }
   ],
   "source": [
    "X_train.corr()"
   ]
  },
  {
   "cell_type": "code",
   "execution_count": 19,
   "metadata": {},
   "outputs": [
    {
     "data": {
      "text/plain": [
       "<AxesSubplot: >"
      ]
     },
     "execution_count": 19,
     "metadata": {},
     "output_type": "execute_result"
    },
    {
     "data": {
      "image/png": "[encoded data removed]",
      "text/plain": [
       "<Figure size 640x480 with 1 Axes>"
      ]
     },
     "metadata": {},
     "output_type": "display_data"
    }
   ],
   "source": [
    "X_train[['Age', 'Age_median', 'Age_mean']].boxplot()"
   ]
  },
  {
   "cell_type": "code",
   "execution_count": 20,
   "metadata": {},
   "outputs": [
    {
     "data": {
      "text/plain": [
       "<AxesSubplot: >"
      ]
     },
     "execution_count": 20,
     "metadata": {},
     "output_type": "execute_result"
    },
    {
     "data": {
      "image/png": "[encoded data removed]",
      "text/plain": [
       "<Figure size 640x480 with 1 Axes>"
      ]
     },
     "metadata": {},
     "output_type": "display_data"
    }
   ],
   "source": [
    "X_train[['Fare', 'Fare_median', 'Fare_mean']].boxplot()"
   ]
  },
  {
   "cell_type": "markdown",
   "metadata": {},
   "source": [
    "### Using Sklearn"
   ]
  },
  {
   "cell_type": "code",
   "execution_count": 21,
   "metadata": {},
   "outputs": [],
   "source": [
    "X_train,X_test,y_train,y_test = train_test_split(X,y,test_size=0.2,random_state=2)"
   ]
  },
  {
   "cell_type": "code",
   "execution_count": 22,
   "metadata": {},
   "outputs": [],
   "source": [
    "imputer1 = SimpleImputer(strategy='median')\n",
    "imputer2 = SimpleImputer(strategy='mean')"
   ]
  },
  {
   "cell_type": "code",
   "execution_count": 160,
   "metadata": {},
   "outputs": [],
   "source": [
    "trf = ColumnTransformer([\n",
    "    ('imputer1',imputer1,['Age']),\n",
    "    ('imputer2',imputer2,['Fare'])\n",
    "],remainder='passthrough')"
   ]
  },
  {
   "cell_type": "code",
   "execution_count": 161,
   "metadata": {},
   "outputs": [
    {
     "data": {
      "text/plain": [
       "ColumnTransformer(remainder='passthrough',\n",
       "                  transformers=[('imputer1', SimpleImputer(strategy='median'),\n",
       "                                 ['Age']),\n",
       "                                ('imputer2', SimpleImputer(), ['Fare'])])"
      ]
     },
     "execution_count": 161,
     "metadata": {},
     "output_type": "execute_result"
    }
   ],
   "source": [
    "trf.fit(X_train)"
   ]
  },
  {
   "cell_type": "code",
   "execution_count": 162,
   "metadata": {},
   "outputs": [
    {
     "data": {
      "text/plain": [
       "array([28.75])"
      ]
     },
     "execution_count": 162,
     "metadata": {},
     "output_type": "execute_result"
    }
   ],
   "source": [
    "trf.named_transformers_['imputer1'].statistics_"
   ]
  },
  {
   "cell_type": "code",
   "execution_count": 163,
   "metadata": {},
   "outputs": [
    {
     "data": {
      "text/plain": [
       "array([32.61759689])"
      ]
     },
     "execution_count": 163,
     "metadata": {},
     "output_type": "execute_result"
    }
   ],
   "source": [
    "trf.named_transformers_['imputer2'].statistics_"
   ]
  },
  {
   "cell_type": "code",
   "execution_count": 164,
   "metadata": {},
   "outputs": [],
   "source": [
    "X_train = trf.transform(X_train)\n",
    "X_test = trf.transform(X_test)"
   ]
  },
  {
   "cell_type": "code",
   "execution_count": 165,
   "metadata": {},
   "outputs": [
    {
     "data": {
      "text/plain": [
       "array([[ 40.    ,  27.7208,   0.    ],\n",
       "       [  4.    ,  16.7   ,   2.    ],\n",
       "       [ 47.    ,   9.    ,   0.    ],\n",
       "       ...,\n",
       "       [ 71.    ,  49.5042,   0.    ],\n",
       "       [ 28.75  , 221.7792,   0.    ],\n",
       "       [ 28.75  ,  25.925 ,   0.    ]])"
      ]
     },
     "execution_count": 165,
     "metadata": {},
     "output_type": "execute_result"
    }
   ],
   "source": [
    "X_train"
   ]
  },
  {
   "cell_type": "code",
   "execution_count": null,
   "metadata": {},
   "outputs": [],
   "source": []
  }
 ],
 "metadata": {
  "kernelspec": {
   "display_name": "Python 3 (ipykernel)",
   "language": "python",
   "name": "python3"
  },
  "language_info": {
   "codemirror_mode": {
    "name": "ipython",
    "version": 3
   },
   "file_extension": ".py",
   "mimetype": "text/x-python",
   "name": "python",
   "nbconvert_exporter": "python",
   "pygments_lexer": "ipython3",
   "version": "3.10.7"
  }
 },
 "nbformat": 4,
 "nbformat_minor": 4
}
