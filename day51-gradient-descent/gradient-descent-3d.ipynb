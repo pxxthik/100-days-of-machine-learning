{
 "cells": [
  {
   "cell_type": "code",
   "execution_count": 1,
   "id": "d80d059a",
   "metadata": {},
   "outputs": [],
   "source": [
    "from sklearn.datasets import make_regression\n",
    "import matplotlib.pyplot as plt\n",
    "import numpy as np"
   ]
  },
  {
   "cell_type": "code",
   "execution_count": 2,
   "id": "66a969f7",
   "metadata": {},
   "outputs": [],
   "source": [
    "X,y = make_regression(n_samples=100, n_features=1, n_informative=1, n_targets=1,noise=20,random_state=13)"
   ]
  },
  {
   "cell_type": "code",
   "execution_count": 3,
   "id": "a2cfe8b8",
   "metadata": {},
   "outputs": [
    {
     "data": {
      "text/plain": [
       "<matplotlib.collections.PathCollection at 0x27ce2327fa0>"
      ]
     },
     "execution_count": 3,
     "metadata": {},
     "output_type": "execute_result"
    },
    {
     "data": {
      "image/png": "[encoded data removed]",
      "text/plain": [
       "<Figure size 432x288 with 1 Axes>"
      ]
     },
     "metadata": {
      "needs_background": "light"
     },
     "output_type": "display_data"
    }
   ],
   "source": [
    "plt.scatter(X,y)"
   ]
  },
  {
   "cell_type": "code",
   "execution_count": 5,
   "id": "dadf4d49",
   "metadata": {},
   "outputs": [],
   "source": [
    "m_arr = np.linspace(-150, 150, 10)\n",
    "b_arr = np.linspace(-150, 150, 10)\n",
    "mGrid, bGrid = np.meshgrid(m_arr,b_arr)\n",
    "\n",
    "final = np.vstack((mGrid.ravel().reshape(1,100),bGrid.ravel().reshape(1,100))).T\n",
    "\n",
    "z_arr = []\n",
    "\n",
    "for i in range(final.shape[0]):\n",
    "    z_arr.append(np.sum((y - final[i,0]*X.reshape(100) - final[i,1])**2))\n",
    "\n",
    "z_arr = np.array(z_arr).reshape(10,10)"
   ]
  },
  {
   "cell_type": "code",
   "execution_count": null,
   "id": "d69fb0f4",
   "metadata": {},
   "outputs": [],
   "source": []
  },
  {
   "cell_type": "code",
   "execution_count": null,
   "id": "c7769408",
   "metadata": {},
   "outputs": [],
   "source": []
  },
  {
   "cell_type": "code",
   "execution_count": 77,
   "id": "c3e7f9b3",
   "metadata": {},
   "outputs": [
    {
     "data": {
      "application/vnd.plotly.v1+json": {
       "config": {
        "plotlyServerURL": "https://plot.ly"
       },
       "data": [
        {
         "type": "surface",
         "x": [
          -150,
          -116.66666666666666,
          -83.33333333333333,
          -50,
          -16.666666666666657,
          16.666666666666686,
          50,
          83.33333333333334,
          116.66666666666669,
          150
         ],
         "y": [
          -150,
          -116.66666666666666,
          -83.33333333333333,
          -50,
          -16.666666666666657,
          16.666666666666686,
          50,
          83.33333333333334,
          116.66666666666669,
          150
         ],
         "z": [
          [
           5273929.292705172,
           4279678.28145494,
           3479174.4520358886,
           2872417.804448019,
           2459408.338691329,
           2240146.0547658214,
           2214630.9526714943,
           2382863.032408348,
           2744842.2939763833,
           3300568.7373755984
          ],
          [
           4331095.5350752035,
           3349823.944079833,
           2562299.5349156437,
           1968522.3075826352,
           1568492.2620808077,
           1362209.398410161,
           1349673.7165706954,
           1530885.2165624106,
           1905843.8983853073,
           2474549.762039384
          ],
          [
           3610483.9996674587,
           2642191.8289269493,
           1867646.8400176212,
           1286849.0329394746,
           899798.407692508,
           706494.9642767227,
           706938.7026921188,
           901129.6229386957,
           1289067.7250164538,
           1870753.008925392
          ],
          [
           3112094.6864819354,
           2156781.935996287,
           1395216.367341821,
           827397.9805185355,
           453326.7755264308,
           273002.7523655072,
           286425.9110357646,
           493596.25153720303,
           894513.7738698225,
           1489178.4780336225
          ],
          [
           2835927.595518634,
           1893594.2652878477,
           1145008.1168882428,
           590169.1503198186,
           229077.3655825756,
           61732.76267651357,
           88135.34160163252,
           308285.1023579325,
           722182.0449454137,
           1329826.169364075
          ],
          [
           2781982.7267775554,
           1852628.8168016304,
           1117022.0886568867,
           575162.5423433245,
           227050.17786094281,
           72684.99520974231,
           112066.99438972281,
           345196.1754008845,
           772072.5382432269,
           1392696.08291675
          ],
          [
           2950260.0802586977,
           2033885.590537635,
           1311258.282647753,
           782378.1565890519,
           447245.21236153203,
           305859.4499651931,
           358220.86940003507,
           604329.4706660581,
           1044185.2537632624,
           1677788.2186916468
          ],
          [
           3340759.655962063,
           2437364.586495862,
           1727716.6988608418,
           1211815.9930570023,
           889662.4690843438,
           761256.1269428664,
           826596.9666325699,
           1085684.9881534544,
           1538520.1915055201,
           2185102.576688766
          ],
          [
           3953481.453887652,
           3063065.804676312,
           2366397.3372961525,
           1863476.051747175,
           1554301.948029378,
           1438875.026142762,
           1517195.286087327,
           1789262.7278630733,
           2255077.3514700006,
           2914639.1569081084
          ],
          [
           4788425.4740354605,
           3910989.245078983,
           3227300.197953685,
           2737358.332659568,
           2441163.6491966336,
           2338716.147564879,
           2430015.8277643058,
           2715062.689794914,
           3193856.733656702,
           3866397.9593496714
          ]
         ]
        }
       ],
       "layout": {
        "autosize": false,
        "height": 500,
        "margin": {
         "b": 65,
         "l": 65,
         "r": 50,
         "t": 90
        },
        "template": {
         "data": {
          "bar": [
           {
            "error_x": {
             "color": "#2a3f5f"
            },
            "error_y": {
             "color": "#2a3f5f"
            },
            "marker": {
             "line": {
              "color": "#E5ECF6",
              "width": 0.5
             }
            },
            "type": "bar"
           }
          ],
          "barpolar": [
           {
            "marker": {
             "line": {
              "color": "#E5ECF6",
              "width": 0.5
             }
            },
            "type": "barpolar"
           }
          ],
          "carpet": [
           {
            "aaxis": {
             "endlinecolor": "#2a3f5f",
             "gridcolor": "white",
             "linecolor": "white",
             "minorgridcolor": "white",
             "startlinecolor": "#2a3f5f"
            },
            "baxis": {
             "endlinecolor": "#2a3f5f",
             "gridcolor": "white",
             "linecolor": "white",
             "minorgridcolor": "white",
             "startlinecolor": "#2a3f5f"
            },
            "type": "carpet"
           }
          ],
          "choropleth": [
           {
            "colorbar": {
             "outlinewidth": 0,
             "ticks": ""
            },
            "type": "choropleth"
           }
          ],
          "contour": [
           {
            "colorbar": {
             "outlinewidth": 0,
             "ticks": ""
            },
            "colorscale": [
             [
              0,
              "#0d0887"
             ],
             [
              0.1111111111111111,
              "#46039f"
             ],
             [
              0.2222222222222222,
              "#7201a8"
             ],
             [
              0.3333333333333333,
              "#9c179e"
             ],
             [
              0.4444444444444444,
              "#bd3786"
             ],
             [
              0.5555555555555556,
              "#d8576b"
             ],
             [
              0.6666666666666666,
              "#ed7953"
             ],
             [
              0.7777777777777778,
              "#fb9f3a"
             ],
             [
              0.8888888888888888,
              "#fdca26"
             ],
             [
              1,
              "#f0f921"
             ]
            ],
            "type": "contour"
           }
          ],
          "contourcarpet": [
           {
            "colorbar": {
             "outlinewidth": 0,
             "ticks": ""
            },
            "type": "contourcarpet"
           }
          ],
          "heatmap": [
           {
            "colorbar": {
             "outlinewidth": 0,
             "ticks": ""
            },
            "colorscale": [
             [
              0,
              "#0d0887"
             ],
             [
              0.1111111111111111,
              "#46039f"
             ],
             [
              0.2222222222222222,
              "#7201a8"
             ],
             [
              0.3333333333333333,
              "#9c179e"
             ],
             [
              0.4444444444444444,
              "#bd3786"
             ],
             [
              0.5555555555555556,
              "#d8576b"
             ],
             [
              0.6666666666666666,
              "#ed7953"
             ],
             [
              0.7777777777777778,
              "#fb9f3a"
             ],
             [
              0.8888888888888888,
              "#fdca26"
             ],
             [
              1,
              "#f0f921"
             ]
            ],
            "type": "heatmap"
           }
          ],
          "heatmapgl": [
           {
            "colorbar": {
             "outlinewidth": 0,
             "ticks": ""
            },
            "colorscale": [
             [
              0,
              "#0d0887"
             ],
             [
              0.1111111111111111,
              "#46039f"
             ],
             [
              0.2222222222222222,
              "#7201a8"
             ],
             [
              0.3333333333333333,
              "#9c179e"
             ],
             [
              0.4444444444444444,
              "#bd3786"
             ],
             [
              0.5555555555555556,
              "#d8576b"
             ],
             [
              0.6666666666666666,
              "#ed7953"
             ],
             [
              0.7777777777777778,
              "#fb9f3a"
             ],
             [
              0.8888888888888888,
              "#fdca26"
             ],
             [
              1,
              "#f0f921"
             ]
            ],
            "type": "heatmapgl"
           }
          ],
          "histogram": [
           {
            "marker": {
             "colorbar": {
              "outlinewidth": 0,
              "ticks": ""
             }
            },
            "type": "histogram"
           }
          ],
          "histogram2d": [
           {
            "colorbar": {
             "outlinewidth": 0,
             "ticks": ""
            },
            "colorscale": [
             [
              0,
              "#0d0887"
             ],
             [
              0.1111111111111111,
              "#46039f"
             ],
             [
              0.2222222222222222,
              "#7201a8"
             ],
             [
              0.3333333333333333,
              "#9c179e"
             ],
             [
              0.4444444444444444,
              "#bd3786"
             ],
             [
              0.5555555555555556,
              "#d8576b"
             ],
             [
              0.6666666666666666,
              "#ed7953"
             ],
             [
              0.7777777777777778,
              "#fb9f3a"
             ],
             [
              0.8888888888888888,
              "#fdca26"
             ],
             [
              1,
              "#f0f921"
             ]
            ],
            "type": "histogram2d"
           }
          ],
          "histogram2dcontour": [
           {
            "colorbar": {
             "outlinewidth": 0,
             "ticks": ""
            },
            "colorscale": [
             [
              0,
              "#0d0887"
             ],
             [
              0.1111111111111111,
              "#46039f"
             ],
             [
              0.2222222222222222,
              "#7201a8"
             ],
             [
              0.3333333333333333,
              "#9c179e"
             ],
             [
              0.4444444444444444,
              "#bd3786"
             ],
             [
              0.5555555555555556,
              "#d8576b"
             ],
             [
              0.6666666666666666,
              "#ed7953"
             ],
             [
              0.7777777777777778,
              "#fb9f3a"
             ],
             [
              0.8888888888888888,
              "#fdca26"
             ],
             [
              1,
              "#f0f921"
             ]
            ],
            "type": "histogram2dcontour"
           }
          ],
          "mesh3d": [
           {
            "colorbar": {
             "outlinewidth": 0,
             "ticks": ""
            },
            "type": "mesh3d"
           }
          ],
          "parcoords": [
           {
            "line": {
             "colorbar": {
              "outlinewidth": 0,
              "ticks": ""
             }
            },
            "type": "parcoords"
           }
          ],
          "pie": [
           {
            "automargin": true,
            "type": "pie"
           }
          ],
          "scatter": [
           {
            "marker": {
             "colorbar": {
              "outlinewidth": 0,
              "ticks": ""
             }
            },
            "type": "scatter"
           }
          ],
          "scatter3d": [
           {
            "line": {
             "colorbar": {
              "outlinewidth": 0,
              "ticks": ""
             }
            },
            "marker": {
             "colorbar": {
              "outlinewidth": 0,
              "ticks": ""
             }
            },
            "type": "scatter3d"
           }
          ],
          "scattercarpet": [
           {
            "marker": {
             "colorbar": {
              "outlinewidth": 0,
              "ticks": ""
             }
            },
            "type": "scattercarpet"
           }
          ],
          "scattergeo": [
           {
            "marker": {
             "colorbar": {
              "outlinewidth": 0,
              "ticks": ""
             }
            },
            "type": "scattergeo"
           }
          ],
          "scattergl": [
           {
            "marker": {
             "colorbar": {
              "outlinewidth": 0,
              "ticks": ""
             }
            },
            "type": "scattergl"
           }
          ],
          "scattermapbox": [
           {
            "marker": {
             "colorbar": {
              "outlinewidth": 0,
              "ticks": ""
             }
            },
            "type": "scattermapbox"
           }
          ],
          "scatterpolar": [
           {
            "marker": {
             "colorbar": {
              "outlinewidth": 0,
              "ticks": ""
             }
            },
            "type": "scatterpolar"
           }
          ],
          "scatterpolargl": [
           {
            "marker": {
             "colorbar": {
              "outlinewidth": 0,
              "ticks": ""
             }
            },
            "type": "scatterpolargl"
           }
          ],
          "scatterternary": [
           {
            "marker": {
             "colorbar": {
              "outlinewidth": 0,
              "ticks": ""
             }
            },
            "type": "scatterternary"
           }
          ],
          "surface": [
           {
            "colorbar": {
             "outlinewidth": 0,
             "ticks": ""
            },
            "colorscale": [
             [
              0,
              "#0d0887"
             ],
             [
              0.1111111111111111,
              "#46039f"
             ],
             [
              0.2222222222222222,
              "#7201a8"
             ],
             [
              0.3333333333333333,
              "#9c179e"
             ],
             [
              0.4444444444444444,
              "#bd3786"
             ],
             [
              0.5555555555555556,
              "#d8576b"
             ],
             [
              0.6666666666666666,
              "#ed7953"
             ],
             [
              0.7777777777777778,
              "#fb9f3a"
             ],
             [
              0.8888888888888888,
              "#fdca26"
             ],
             [
              1,
              "#f0f921"
             ]
            ],
            "type": "surface"
           }
          ],
          "table": [
           {
            "cells": {
             "fill": {
              "color": "#EBF0F8"
             },
             "line": {
              "color": "white"
             }
            },
            "header": {
             "fill": {
              "color": "#C8D4E3"
             },
             "line": {
              "color": "white"
             }
            },
            "type": "table"
           }
          ]
         },
         "layout": {
          "annotationdefaults": {
           "arrowcolor": "#2a3f5f",
           "arrowhead": 0,
           "arrowwidth": 1
          },
          "autotypenumbers": "strict",
          "coloraxis": {
           "colorbar": {
            "outlinewidth": 0,
            "ticks": ""
           }
          },
          "colorscale": {
           "diverging": [
            [
             0,
             "#8e0152"
            ],
            [
             0.1,
             "#c51b7d"
            ],
            [
             0.2,
             "#de77ae"
            ],
            [
             0.3,
             "#f1b6da"
            ],
            [
             0.4,
             "#fde0ef"
            ],
            [
             0.5,
             "#f7f7f7"
            ],
            [
             0.6,
             "#e6f5d0"
            ],
            [
             0.7,
             "#b8e186"
            ],
            [
             0.8,
             "#7fbc41"
            ],
            [
             0.9,
             "#4d9221"
            ],
            [
             1,
             "#276419"
            ]
           ],
           "sequential": [
            [
             0,
             "#0d0887"
            ],
            [
             0.1111111111111111,
             "#46039f"
            ],
            [
             0.2222222222222222,
             "#7201a8"
            ],
            [
             0.3333333333333333,
             "#9c179e"
            ],
            [
             0.4444444444444444,
             "#bd3786"
            ],
            [
             0.5555555555555556,
             "#d8576b"
            ],
            [
             0.6666666666666666,
             "#ed7953"
            ],
            [
             0.7777777777777778,
             "#fb9f3a"
            ],
            [
             0.8888888888888888,
             "#fdca26"
            ],
            [
             1,
             "#f0f921"
            ]
           ],
           "sequentialminus": [
            [
             0,
             "#0d0887"
            ],
            [
             0.1111111111111111,
             "#46039f"
            ],
            [
             0.2222222222222222,
             "#7201a8"
            ],
            [
             0.3333333333333333,
             "#9c179e"
            ],
            [
             0.4444444444444444,
             "#bd3786"
            ],
            [
             0.5555555555555556,
             "#d8576b"
            ],
            [
             0.6666666666666666,
             "#ed7953"
            ],
            [
             0.7777777777777778,
             "#fb9f3a"
            ],
            [
             0.8888888888888888,
             "#fdca26"
            ],
            [
             1,
             "#f0f921"
            ]
           ]
          },
          "colorway": [
           "#636efa",
           "#EF553B",
           "#00cc96",
           "#ab63fa",
           "#FFA15A",
           "#19d3f3",
           "#FF6692",
           "#B6E880",
           "#FF97FF",
           "#FECB52"
          ],
          "font": {
           "color": "#2a3f5f"
          },
          "geo": {
           "bgcolor": "white",
           "lakecolor": "white",
           "landcolor": "#E5ECF6",
           "showlakes": true,
           "showland": true,
           "subunitcolor": "white"
          },
          "hoverlabel": {
           "align": "left"
          },
          "hovermode": "closest",
          "mapbox": {
           "style": "light"
          },
          "paper_bgcolor": "white",
          "plot_bgcolor": "#E5ECF6",
          "polar": {
           "angularaxis": {
            "gridcolor": "white",
            "linecolor": "white",
            "ticks": ""
           },
           "bgcolor": "#E5ECF6",
           "radialaxis": {
            "gridcolor": "white",
            "linecolor": "white",
            "ticks": ""
           }
          },
          "scene": {
           "xaxis": {
            "backgroundcolor": "#E5ECF6",
            "gridcolor": "white",
            "gridwidth": 2,
            "linecolor": "white",
            "showbackground": true,
            "ticks": "",
            "zerolinecolor": "white"
           },
           "yaxis": {
            "backgroundcolor": "#E5ECF6",
            "gridcolor": "white",
            "gridwidth": 2,
            "linecolor": "white",
            "showbackground": true,
            "ticks": "",
            "zerolinecolor": "white"
           },
           "zaxis": {
            "backgroundcolor": "#E5ECF6",
            "gridcolor": "white",
            "gridwidth": 2,
            "linecolor": "white",
            "showbackground": true,
            "ticks": "",
            "zerolinecolor": "white"
           }
          },
          "shapedefaults": {
           "line": {
            "color": "#2a3f5f"
           }
          },
          "ternary": {
           "aaxis": {
            "gridcolor": "white",
            "linecolor": "white",
            "ticks": ""
           },
           "baxis": {
            "gridcolor": "white",
            "linecolor": "white",
            "ticks": ""
           },
           "bgcolor": "#E5ECF6",
           "caxis": {
            "gridcolor": "white",
            "linecolor": "white",
            "ticks": ""
           }
          },
          "title": {
           "x": 0.05
          },
          "xaxis": {
           "automargin": true,
           "gridcolor": "white",
           "linecolor": "white",
           "ticks": "",
           "title": {
            "standoff": 15
           },
           "zerolinecolor": "white",
           "zerolinewidth": 2
          },
          "yaxis": {
           "automargin": true,
           "gridcolor": "white",
           "linecolor": "white",
           "ticks": "",
           "title": {
            "standoff": 15
           },
           "zerolinecolor": "white",
           "zerolinewidth": 2
          }
         }
        },
        "title": {
         "text": "Cost Function"
        },
        "width": 500
       }
      },
      "text/html": [
       "<div>                            <div id=\"d4d03d95-1c45-4bc7-a7f1-b36a16e67bfd\" class=\"plotly-graph-div\" style=\"height:500px; width:500px;\"></div>            <script type=\"text/javascript\">                require([\"plotly\"], function(Plotly) {                    window.PLOTLYENV=window.PLOTLYENV || {};                                    if (document.getElementById(\"d4d03d95-1c45-4bc7-a7f1-b36a16e67bfd\")) {                    Plotly.newPlot(                        \"d4d03d95-1c45-4bc7-a7f1-b36a16e67bfd\",                        [{\"type\": \"surface\", \"x\": [-150.0, -116.66666666666666, -83.33333333333333, -50.0, -16.666666666666657, 16.666666666666686, 50.0, 83.33333333333334, 116.66666666666669, 150.0], \"y\": [-150.0, -116.66666666666666, -83.33333333333333, -50.0, -16.666666666666657, 16.666666666666686, 50.0, 83.33333333333334, 116.66666666666669, 150.0], \"z\": [[5273929.292705172, 4279678.28145494, 3479174.4520358886, 2872417.804448019, 2459408.338691329, 2240146.0547658214, 2214630.9526714943, 2382863.032408348, 2744842.2939763833, 3300568.7373755984], [4331095.5350752035, 3349823.944079833, 2562299.5349156437, 1968522.3075826352, 1568492.2620808077, 1362209.398410161, 1349673.7165706954, 1530885.2165624106, 1905843.8983853073, 2474549.762039384], [3610483.9996674587, 2642191.8289269493, 1867646.8400176212, 1286849.0329394746, 899798.407692508, 706494.9642767227, 706938.7026921188, 901129.6229386957, 1289067.7250164538, 1870753.008925392], [3112094.6864819354, 2156781.935996287, 1395216.367341821, 827397.9805185355, 453326.7755264308, 273002.7523655072, 286425.9110357646, 493596.25153720303, 894513.7738698225, 1489178.4780336225], [2835927.595518634, 1893594.2652878477, 1145008.1168882428, 590169.1503198186, 229077.3655825756, 61732.76267651357, 88135.34160163252, 308285.1023579325, 722182.0449454137, 1329826.169364075], [2781982.7267775554, 1852628.8168016304, 1117022.0886568867, 575162.5423433245, 227050.17786094281, 72684.99520974231, 112066.99438972281, 345196.1754008845, 772072.5382432269, 1392696.08291675], [2950260.0802586977, 2033885.590537635, 1311258.282647753, 782378.1565890519, 447245.21236153203, 305859.4499651931, 358220.86940003507, 604329.4706660581, 1044185.2537632624, 1677788.2186916468], [3340759.655962063, 2437364.586495862, 1727716.6988608418, 1211815.9930570023, 889662.4690843438, 761256.1269428664, 826596.9666325699, 1085684.9881534544, 1538520.1915055201, 2185102.576688766], [3953481.453887652, 3063065.804676312, 2366397.3372961525, 1863476.051747175, 1554301.948029378, 1438875.026142762, 1517195.286087327, 1789262.7278630733, 2255077.3514700006, 2914639.1569081084], [4788425.4740354605, 3910989.245078983, 3227300.197953685, 2737358.332659568, 2441163.6491966336, 2338716.147564879, 2430015.8277643058, 2715062.689794914, 3193856.733656702, 3866397.9593496714]]}],                        {\"autosize\": false, \"height\": 500, \"margin\": {\"b\": 65, \"l\": 65, \"r\": 50, \"t\": 90}, \"template\": {\"data\": {\"bar\": [{\"error_x\": {\"color\": \"#2a3f5f\"}, \"error_y\": {\"color\": \"#2a3f5f\"}, \"marker\": {\"line\": {\"color\": \"#E5ECF6\", \"width\": 0.5}}, \"type\": \"bar\"}], \"barpolar\": [{\"marker\": {\"line\": {\"color\": \"#E5ECF6\", \"width\": 0.5}}, \"type\": \"barpolar\"}], \"carpet\": [{\"aaxis\": {\"endlinecolor\": \"#2a3f5f\", \"gridcolor\": \"white\", \"linecolor\": \"white\", \"minorgridcolor\": \"white\", \"startlinecolor\": \"#2a3f5f\"}, \"baxis\": {\"endlinecolor\": \"#2a3f5f\", \"gridcolor\": \"white\", \"linecolor\": \"white\", \"minorgridcolor\": \"white\", \"startlinecolor\": \"#2a3f5f\"}, \"type\": \"carpet\"}], \"choropleth\": [{\"colorbar\": {\"outlinewidth\": 0, \"ticks\": \"\"}, \"type\": \"choropleth\"}], \"contour\": [{\"colorbar\": {\"outlinewidth\": 0, \"ticks\": \"\"}, \"colorscale\": [[0.0, \"#0d0887\"], [0.1111111111111111, \"#46039f\"], [0.2222222222222222, \"#7201a8\"], [0.3333333333333333, \"#9c179e\"], [0.4444444444444444, \"#bd3786\"], [0.5555555555555556, \"#d8576b\"], [0.6666666666666666, \"#ed7953\"], [0.7777777777777778, \"#fb9f3a\"], [0.8888888888888888, \"#fdca26\"], [1.0, \"#f0f921\"]], \"type\": \"contour\"}], \"contourcarpet\": [{\"colorbar\": {\"outlinewidth\": 0, \"ticks\": \"\"}, \"type\": \"contourcarpet\"}], \"heatmap\": [{\"colorbar\": {\"outlinewidth\": 0, \"ticks\": \"\"}, \"colorscale\": [[0.0, \"#0d0887\"], [0.1111111111111111, \"#46039f\"], [0.2222222222222222, \"#7201a8\"], [0.3333333333333333, \"#9c179e\"], [0.4444444444444444, \"#bd3786\"], [0.5555555555555556, \"#d8576b\"], [0.6666666666666666, \"#ed7953\"], [0.7777777777777778, \"#fb9f3a\"], [0.8888888888888888, \"#fdca26\"], [1.0, \"#f0f921\"]], \"type\": \"heatmap\"}], \"heatmapgl\": [{\"colorbar\": {\"outlinewidth\": 0, \"ticks\": \"\"}, \"colorscale\": [[0.0, \"#0d0887\"], [0.1111111111111111, \"#46039f\"], [0.2222222222222222, \"#7201a8\"], [0.3333333333333333, \"#9c179e\"], [0.4444444444444444, \"#bd3786\"], [0.5555555555555556, \"#d8576b\"], [0.6666666666666666, \"#ed7953\"], [0.7777777777777778, \"#fb9f3a\"], [0.8888888888888888, \"#fdca26\"], [1.0, \"#f0f921\"]], \"type\": \"heatmapgl\"}], \"histogram\": [{\"marker\": {\"colorbar\": {\"outlinewidth\": 0, \"ticks\": \"\"}}, \"type\": \"histogram\"}], \"histogram2d\": [{\"colorbar\": {\"outlinewidth\": 0, \"ticks\": \"\"}, \"colorscale\": [[0.0, \"#0d0887\"], [0.1111111111111111, \"#46039f\"], [0.2222222222222222, \"#7201a8\"], [0.3333333333333333, \"#9c179e\"], [0.4444444444444444, \"#bd3786\"], [0.5555555555555556, \"#d8576b\"], [0.6666666666666666, \"#ed7953\"], [0.7777777777777778, \"#fb9f3a\"], [0.8888888888888888, \"#fdca26\"], [1.0, \"#f0f921\"]], \"type\": \"histogram2d\"}], \"histogram2dcontour\": [{\"colorbar\": {\"outlinewidth\": 0, \"ticks\": \"\"}, \"colorscale\": [[0.0, \"#0d0887\"], [0.1111111111111111, \"#46039f\"], [0.2222222222222222, \"#7201a8\"], [0.3333333333333333, \"#9c179e\"], [0.4444444444444444, \"#bd3786\"], [0.5555555555555556, \"#d8576b\"], [0.6666666666666666, \"#ed7953\"], [0.7777777777777778, \"#fb9f3a\"], [0.8888888888888888, \"#fdca26\"], [1.0, \"#f0f921\"]], \"type\": \"histogram2dcontour\"}], \"mesh3d\": [{\"colorbar\": {\"outlinewidth\": 0, \"ticks\": \"\"}, \"type\": \"mesh3d\"}], \"parcoords\": [{\"line\": {\"colorbar\": {\"outlinewidth\": 0, \"ticks\": \"\"}}, \"type\": \"parcoords\"}], \"pie\": [{\"automargin\": true, \"type\": \"pie\"}], \"scatter\": [{\"marker\": {\"colorbar\": {\"outlinewidth\": 0, \"ticks\": \"\"}}, \"type\": \"scatter\"}], \"scatter3d\": [{\"line\": {\"colorbar\": {\"outlinewidth\": 0, \"ticks\": \"\"}}, \"marker\": {\"colorbar\": {\"outlinewidth\": 0, \"ticks\": \"\"}}, \"type\": \"scatter3d\"}], \"scattercarpet\": [{\"marker\": {\"colorbar\": {\"outlinewidth\": 0, \"ticks\": \"\"}}, \"type\": \"scattercarpet\"}], \"scattergeo\": [{\"marker\": {\"colorbar\": {\"outlinewidth\": 0, \"ticks\": \"\"}}, \"type\": \"scattergeo\"}], \"scattergl\": [{\"marker\": {\"colorbar\": {\"outlinewidth\": 0, \"ticks\": \"\"}}, \"type\": \"scattergl\"}], \"scattermapbox\": [{\"marker\": {\"colorbar\": {\"outlinewidth\": 0, \"ticks\": \"\"}}, \"type\": \"scattermapbox\"}], \"scatterpolar\": [{\"marker\": {\"colorbar\": {\"outlinewidth\": 0, \"ticks\": \"\"}}, \"type\": \"scatterpolar\"}], \"scatterpolargl\": [{\"marker\": {\"colorbar\": {\"outlinewidth\": 0, \"ticks\": \"\"}}, \"type\": \"scatterpolargl\"}], \"scatterternary\": [{\"marker\": {\"colorbar\": {\"outlinewidth\": 0, \"ticks\": \"\"}}, \"type\": \"scatterternary\"}], \"surface\": [{\"colorbar\": {\"outlinewidth\": 0, \"ticks\": \"\"}, \"colorscale\": [[0.0, \"#0d0887\"], [0.1111111111111111, \"#46039f\"], [0.2222222222222222, \"#7201a8\"], [0.3333333333333333, \"#9c179e\"], [0.4444444444444444, \"#bd3786\"], [0.5555555555555556, \"#d8576b\"], [0.6666666666666666, \"#ed7953\"], [0.7777777777777778, \"#fb9f3a\"], [0.8888888888888888, \"#fdca26\"], [1.0, \"#f0f921\"]], \"type\": \"surface\"}], \"table\": [{\"cells\": {\"fill\": {\"color\": \"#EBF0F8\"}, \"line\": {\"color\": \"white\"}}, \"header\": {\"fill\": {\"color\": \"#C8D4E3\"}, \"line\": {\"color\": \"white\"}}, \"type\": \"table\"}]}, \"layout\": {\"annotationdefaults\": {\"arrowcolor\": \"#2a3f5f\", \"arrowhead\": 0, \"arrowwidth\": 1}, \"autotypenumbers\": \"strict\", \"coloraxis\": {\"colorbar\": {\"outlinewidth\": 0, \"ticks\": \"\"}}, \"colorscale\": {\"diverging\": [[0, \"#8e0152\"], [0.1, \"#c51b7d\"], [0.2, \"#de77ae\"], [0.3, \"#f1b6da\"], [0.4, \"#fde0ef\"], [0.5, \"#f7f7f7\"], [0.6, \"#e6f5d0\"], [0.7, \"#b8e186\"], [0.8, \"#7fbc41\"], [0.9, \"#4d9221\"], [1, \"#276419\"]], \"sequential\": [[0.0, \"#0d0887\"], [0.1111111111111111, \"#46039f\"], [0.2222222222222222, \"#7201a8\"], [0.3333333333333333, \"#9c179e\"], [0.4444444444444444, \"#bd3786\"], [0.5555555555555556, \"#d8576b\"], [0.6666666666666666, \"#ed7953\"], [0.7777777777777778, \"#fb9f3a\"], [0.8888888888888888, \"#fdca26\"], [1.0, \"#f0f921\"]], \"sequentialminus\": [[0.0, \"#0d0887\"], [0.1111111111111111, \"#46039f\"], [0.2222222222222222, \"#7201a8\"], [0.3333333333333333, \"#9c179e\"], [0.4444444444444444, \"#bd3786\"], [0.5555555555555556, \"#d8576b\"], [0.6666666666666666, \"#ed7953\"], [0.7777777777777778, \"#fb9f3a\"], [0.8888888888888888, \"#fdca26\"], [1.0, \"#f0f921\"]]}, \"colorway\": [\"#636efa\", \"#EF553B\", \"#00cc96\", \"#ab63fa\", \"#FFA15A\", \"#19d3f3\", \"#FF6692\", \"#B6E880\", \"#FF97FF\", \"#FECB52\"], \"font\": {\"color\": \"#2a3f5f\"}, \"geo\": {\"bgcolor\": \"white\", \"lakecolor\": \"white\", \"landcolor\": \"#E5ECF6\", \"showlakes\": true, \"showland\": true, \"subunitcolor\": \"white\"}, \"hoverlabel\": {\"align\": \"left\"}, \"hovermode\": \"closest\", \"mapbox\": {\"style\": \"light\"}, \"paper_bgcolor\": \"white\", \"plot_bgcolor\": \"#E5ECF6\", \"polar\": {\"angularaxis\": {\"gridcolor\": \"white\", \"linecolor\": \"white\", \"ticks\": \"\"}, \"bgcolor\": \"#E5ECF6\", \"radialaxis\": {\"gridcolor\": \"white\", \"linecolor\": \"white\", \"ticks\": \"\"}}, \"scene\": {\"xaxis\": {\"backgroundcolor\": \"#E5ECF6\", \"gridcolor\": \"white\", \"gridwidth\": 2, \"linecolor\": \"white\", \"showbackground\": true, \"ticks\": \"\", \"zerolinecolor\": \"white\"}, \"yaxis\": {\"backgroundcolor\": \"#E5ECF6\", \"gridcolor\": \"white\", \"gridwidth\": 2, \"linecolor\": \"white\", \"showbackground\": true, \"ticks\": \"\", \"zerolinecolor\": \"white\"}, \"zaxis\": {\"backgroundcolor\": \"#E5ECF6\", \"gridcolor\": \"white\", \"gridwidth\": 2, \"linecolor\": \"white\", \"showbackground\": true, \"ticks\": \"\", \"zerolinecolor\": \"white\"}}, \"shapedefaults\": {\"line\": {\"color\": \"#2a3f5f\"}}, \"ternary\": {\"aaxis\": {\"gridcolor\": \"white\", \"linecolor\": \"white\", \"ticks\": \"\"}, \"baxis\": {\"gridcolor\": \"white\", \"linecolor\": \"white\", \"ticks\": \"\"}, \"bgcolor\": \"#E5ECF6\", \"caxis\": {\"gridcolor\": \"white\", \"linecolor\": \"white\", \"ticks\": \"\"}}, \"title\": {\"x\": 0.05}, \"xaxis\": {\"automargin\": true, \"gridcolor\": \"white\", \"linecolor\": \"white\", \"ticks\": \"\", \"title\": {\"standoff\": 15}, \"zerolinecolor\": \"white\", \"zerolinewidth\": 2}, \"yaxis\": {\"automargin\": true, \"gridcolor\": \"white\", \"linecolor\": \"white\", \"ticks\": \"\", \"title\": {\"standoff\": 15}, \"zerolinecolor\": \"white\", \"zerolinewidth\": 2}}}, \"title\": {\"text\": \"Cost Function\"}, \"width\": 500},                        {\"responsive\": true}                    ).then(function(){\n",
       "                            \n",
       "var gd = document.getElementById('d4d03d95-1c45-4bc7-a7f1-b36a16e67bfd');\n",
       "var x = new MutationObserver(function (mutations, observer) {{\n",
       "        var display = window.getComputedStyle(gd).display;\n",
       "        if (!display || display === 'none') {{\n",
       "            console.log([gd, 'removed!']);\n",
       "            Plotly.purge(gd);\n",
       "            observer.disconnect();\n",
       "        }}\n",
       "}});\n",
       "\n",
       "// Listen for the removal of the full notebook cells\n",
       "var notebookContainer = gd.closest('#notebook-container');\n",
       "if (notebookContainer) {{\n",
       "    x.observe(notebookContainer, {childList: true});\n",
       "}}\n",
       "\n",
       "// Listen for the clearing of the current output cell\n",
       "var outputEl = gd.closest('.output');\n",
       "if (outputEl) {{\n",
       "    x.observe(outputEl, {childList: true});\n",
       "}}\n",
       "\n",
       "                        })                };                });            </script>        </div>"
      ]
     },
     "metadata": {},
     "output_type": "display_data"
    }
   ],
   "source": [
    "import plotly.graph_objects as go\n",
    "\n",
    "fig = go.Figure(data=[go.Surface(x = m_arr, y = b_arr, z =z_arr)])\n",
    "\n",
    "fig.update_layout(title='Cost Function', autosize=False,\n",
    "                  width=500, height=500,\n",
    "                  margin=dict(l=65, r=50, b=65, t=90))\n",
    "\n",
    "\n",
    "\n",
    "fig.show()\n",
    "\n",
    "fig.write_html(\"cost_function.html\")"
   ]
  },
  {
   "cell_type": "code",
   "execution_count": 7,
   "id": "41047cbb",
   "metadata": {},
   "outputs": [],
   "source": [
    "b = 150\n",
    "m = -127.82\n",
    "lr = 0.001\n",
    "all_b = []\n",
    "all_m = []\n",
    "all_cost = []\n",
    "\n",
    "epochs = 30\n",
    "\n",
    "for i in range(epochs):\n",
    "    slope_b = 0\n",
    "    slope_m = 0\n",
    "    cost = 0\n",
    "    for j in range(X.shape[0]):\n",
    "        slope_b = slope_b - 2*(y[j] - (m * X[j]) -  b)\n",
    "        slope_m = slope_m - 2*(y[j] - (m * X[j]) -  b)*X[j]\n",
    "        cost = cost + (y[j] - m * X[j] -b) ** 2\n",
    "\n",
    "    b = b - (lr * slope_b)\n",
    "    m = m - (lr * slope_m)\n",
    "    all_b.append(b)\n",
    "    all_m.append(m)\n",
    "    all_cost.append(cost)"
   ]
  },
  {
   "cell_type": "code",
   "execution_count": 78,
   "id": "60fe1471",
   "metadata": {},
   "outputs": [
    {
     "data": {
      "application/vnd.plotly.v1+json": {
       "config": {
        "plotlyServerURL": "https://plot.ly"
       },
       "data": [
        {
         "hovertemplate": "x=%{x}<br>y=%{y}<br>z=%{z}<extra></extra>",
         "legendgroup": "",
         "marker": {
          "color": "#636efa",
          "symbol": "circle"
         },
         "mode": "markers",
         "name": "",
         "scene": "scene",
         "showlegend": false,
         "type": "scatter3d",
         "x": [
          -102.45828664755196,
          -81.1843914473308,
          -63.34896395302701,
          -48.403749871387426,
          -35.88630060537817,
          -25.406895241560335,
          -16.637377863924723,
          -9.301647453171054,
          -3.1675694587391057,
          1.959892829319645,
          6.244502792001,
          9.823683162342824,
          12.812688420504038,
          15.308130181390235,
          17.39095285579061,
          19.1289429224446,
          20.578843045640394,
          21.788131806114162,
          22.796520790129687,
          23.63721302569696,
          24.337960105055306,
          24.92194964413773,
          25.40854987382013,
          25.813934020282456,
          26.1516036124906,
          26.432826865954603,
          26.667005757192673,
          26.86198325654659,
          27.024300370967964,
          27.159411113875716
         ],
         "y": [
          121.35925087510485,
          98.15038927280241,
          79.33478944732508,
          64.0739654289569,
          51.690724021334326,
          41.63790858414807,
          33.473241288784834,
          26.83906652616526,
          21.446034540979813,
          17.05995385428221,
          13.491192965834227,
          10.586133677075413,
          8.220276128493204,
          6.29267408977674,
          4.721442010201102,
          3.4401258988139345,
          2.394770716577711,
          1.5415495940648518,
          0.8448464157260619,
          0.27570439909151034,
          -0.18942974226351472,
          -0.5697228170993577,
          -0.8807791380550064,
          -1.1353084048089692,
          -1.3436673042935732,
          -1.514298903871358,
          -1.6540892868465198,
          -1.7686571488464258,
          -1.8625890638602716,
          -1.9396306997097164
         ],
         "z": [
          418301119.5885374,
          284912588.1289921,
          194545211.05181247,
          133253955.52312997,
          91638625.49308446,
          63353972.030531414,
          44111259.23728392,
          31008115.631710626,
          22078041.900908563,
          15987130.20808693,
          11829599.08225496,
          8989759.549626498,
          7048707.200181888,
          5721169.462572761,
          4812711.860385524,
          4190707.3284914177,
          3764621.1835932024,
          3472608.9401395163,
          3272396.8940121983,
          3135071.318862195,
          3040845.0147636286,
          2976169.3899937198,
          2931762.959337781,
          2901264.520617598,
          2880312.48105918,
          2865915.114153259,
          2856019.570783133,
          2849216.760573407,
          2844539.171373084,
          2841322.296143108
         ]
        },
        {
         "type": "surface",
         "x": [
          -150,
          -116.66666666666666,
          -83.33333333333333,
          -50,
          -16.666666666666657,
          16.666666666666686,
          50,
          83.33333333333334,
          116.66666666666669,
          150
         ],
         "y": [
          -150,
          -116.66666666666666,
          -83.33333333333333,
          -50,
          -16.666666666666657,
          16.666666666666686,
          50,
          83.33333333333334,
          116.66666666666669,
          150
         ],
         "z": [
          [
           527392929.2705172,
           427967828.14549404,
           347917445.20358884,
           287241780.44480187,
           245940833.8691329,
           224014605.47658214,
           221463095.26714945,
           238286303.24083477,
           274484229.3976383,
           330056873.73755985
          ],
          [
           433109553.5075204,
           334982394.4079833,
           256229953.49156436,
           196852230.75826353,
           156849226.20808077,
           136220939.8410161,
           134967371.65706953,
           153088521.65624106,
           190584389.83853072,
           247454976.2039384
          ],
          [
           361048399.96674585,
           264219182.89269492,
           186764684.00176212,
           128684903.29394746,
           89979840.7692508,
           70649496.42767228,
           70693870.26921189,
           90112962.29386957,
           128906772.50164537,
           187075300.8925392
          ],
          [
           311209468.64819354,
           215678193.59962872,
           139521636.73418212,
           82739798.05185355,
           45332677.55264308,
           27300275.23655072,
           28642591.103576463,
           49359625.153720304,
           89451377.38698225,
           148917847.80336225
          ],
          [
           283592759.55186343,
           189359426.52878478,
           114500811.68882428,
           59016915.03198186,
           22907736.55825756,
           6173276.267651357,
           8813534.160163252,
           30828510.235793248,
           72218204.49454138,
           132982616.93640749
          ],
          [
           278198272.67775553,
           185262881.68016306,
           111702208.86568867,
           57516254.23433245,
           22705017.78609428,
           7268499.520974231,
           11206699.438972281,
           34519617.540088445,
           77207253.8243227,
           139269608.291675
          ],
          [
           295026008.0258698,
           203388559.05376348,
           131125828.26477529,
           78237815.6589052,
           44724521.2361532,
           30585944.996519312,
           35822086.94000351,
           60432947.066605814,
           104418525.37632625,
           167778821.86916468
          ],
          [
           334075965.5962063,
           243736458.6495862,
           172771669.88608417,
           121181599.30570023,
           88966246.90843438,
           76125612.69428663,
           82659696.66325699,
           108568498.81534544,
           153852019.150552,
           218510257.6688766
          ],
          [
           395348145.3887652,
           306306580.4676312,
           236639733.72961524,
           186347605.1747175,
           155430194.8029378,
           143887502.6142762,
           151719528.6087327,
           178926272.78630733,
           225507735.14700004,
           291463915.69081086
          ],
          [
           478842547.40354604,
           391098924.5078983,
           322730019.7953685,
           273735833.2659568,
           244116364.91966337,
           233871614.7564879,
           243001582.77643058,
           271506268.9794914,
           319385673.3656702,
           386639795.93496716
          ]
         ]
        }
       ],
       "layout": {
        "legend": {
         "tracegroupgap": 0
        },
        "margin": {
         "t": 60
        },
        "scene": {
         "domain": {
          "x": [
           0,
           1
          ],
          "y": [
           0,
           1
          ]
         },
         "xaxis": {
          "title": {
           "text": "x"
          }
         },
         "yaxis": {
          "title": {
           "text": "y"
          }
         },
         "zaxis": {
          "title": {
           "text": "z"
          }
         }
        },
        "template": {
         "data": {
          "bar": [
           {
            "error_x": {
             "color": "#2a3f5f"
            },
            "error_y": {
             "color": "#2a3f5f"
            },
            "marker": {
             "line": {
              "color": "#E5ECF6",
              "width": 0.5
             }
            },
            "type": "bar"
           }
          ],
          "barpolar": [
           {
            "marker": {
             "line": {
              "color": "#E5ECF6",
              "width": 0.5
             }
            },
            "type": "barpolar"
           }
          ],
          "carpet": [
           {
            "aaxis": {
             "endlinecolor": "#2a3f5f",
             "gridcolor": "white",
             "linecolor": "white",
             "minorgridcolor": "white",
             "startlinecolor": "#2a3f5f"
            },
            "baxis": {
             "endlinecolor": "#2a3f5f",
             "gridcolor": "white",
             "linecolor": "white",
             "minorgridcolor": "white",
             "startlinecolor": "#2a3f5f"
            },
            "type": "carpet"
           }
          ],
          "choropleth": [
           {
            "colorbar": {
             "outlinewidth": 0,
             "ticks": ""
            },
            "type": "choropleth"
           }
          ],
          "contour": [
           {
            "colorbar": {
             "outlinewidth": 0,
             "ticks": ""
            },
            "colorscale": [
             [
              0,
              "#0d0887"
             ],
             [
              0.1111111111111111,
              "#46039f"
             ],
             [
              0.2222222222222222,
              "#7201a8"
             ],
             [
              0.3333333333333333,
              "#9c179e"
             ],
             [
              0.4444444444444444,
              "#bd3786"
             ],
             [
              0.5555555555555556,
              "#d8576b"
             ],
             [
              0.6666666666666666,
              "#ed7953"
             ],
             [
              0.7777777777777778,
              "#fb9f3a"
             ],
             [
              0.8888888888888888,
              "#fdca26"
             ],
             [
              1,
              "#f0f921"
             ]
            ],
            "type": "contour"
           }
          ],
          "contourcarpet": [
           {
            "colorbar": {
             "outlinewidth": 0,
             "ticks": ""
            },
            "type": "contourcarpet"
           }
          ],
          "heatmap": [
           {
            "colorbar": {
             "outlinewidth": 0,
             "ticks": ""
            },
            "colorscale": [
             [
              0,
              "#0d0887"
             ],
             [
              0.1111111111111111,
              "#46039f"
             ],
             [
              0.2222222222222222,
              "#7201a8"
             ],
             [
              0.3333333333333333,
              "#9c179e"
             ],
             [
              0.4444444444444444,
              "#bd3786"
             ],
             [
              0.5555555555555556,
              "#d8576b"
             ],
             [
              0.6666666666666666,
              "#ed7953"
             ],
             [
              0.7777777777777778,
              "#fb9f3a"
             ],
             [
              0.8888888888888888,
              "#fdca26"
             ],
             [
              1,
              "#f0f921"
             ]
            ],
            "type": "heatmap"
           }
          ],
          "heatmapgl": [
           {
            "colorbar": {
             "outlinewidth": 0,
             "ticks": ""
            },
            "colorscale": [
             [
              0,
              "#0d0887"
             ],
             [
              0.1111111111111111,
              "#46039f"
             ],
             [
              0.2222222222222222,
              "#7201a8"
             ],
             [
              0.3333333333333333,
              "#9c179e"
             ],
             [
              0.4444444444444444,
              "#bd3786"
             ],
             [
              0.5555555555555556,
              "#d8576b"
             ],
             [
              0.6666666666666666,
              "#ed7953"
             ],
             [
              0.7777777777777778,
              "#fb9f3a"
             ],
             [
              0.8888888888888888,
              "#fdca26"
             ],
             [
              1,
              "#f0f921"
             ]
            ],
            "type": "heatmapgl"
           }
          ],
          "histogram": [
           {
            "marker": {
             "colorbar": {
              "outlinewidth": 0,
              "ticks": ""
             }
            },
            "type": "histogram"
           }
          ],
          "histogram2d": [
           {
            "colorbar": {
             "outlinewidth": 0,
             "ticks": ""
            },
            "colorscale": [
             [
              0,
              "#0d0887"
             ],
             [
              0.1111111111111111,
              "#46039f"
             ],
             [
              0.2222222222222222,
              "#7201a8"
             ],
             [
              0.3333333333333333,
              "#9c179e"
             ],
             [
              0.4444444444444444,
              "#bd3786"
             ],
             [
              0.5555555555555556,
              "#d8576b"
             ],
             [
              0.6666666666666666,
              "#ed7953"
             ],
             [
              0.7777777777777778,
              "#fb9f3a"
             ],
             [
              0.8888888888888888,
              "#fdca26"
             ],
             [
              1,
              "#f0f921"
             ]
            ],
            "type": "histogram2d"
           }
          ],
          "histogram2dcontour": [
           {
            "colorbar": {
             "outlinewidth": 0,
             "ticks": ""
            },
            "colorscale": [
             [
              0,
              "#0d0887"
             ],
             [
              0.1111111111111111,
              "#46039f"
             ],
             [
              0.2222222222222222,
              "#7201a8"
             ],
             [
              0.3333333333333333,
              "#9c179e"
             ],
             [
              0.4444444444444444,
              "#bd3786"
             ],
             [
              0.5555555555555556,
              "#d8576b"
             ],
             [
              0.6666666666666666,
              "#ed7953"
             ],
             [
              0.7777777777777778,
              "#fb9f3a"
             ],
             [
              0.8888888888888888,
              "#fdca26"
             ],
             [
              1,
              "#f0f921"
             ]
            ],
            "type": "histogram2dcontour"
           }
          ],
          "mesh3d": [
           {
            "colorbar": {
             "outlinewidth": 0,
             "ticks": ""
            },
            "type": "mesh3d"
           }
          ],
          "parcoords": [
           {
            "line": {
             "colorbar": {
              "outlinewidth": 0,
              "ticks": ""
             }
            },
            "type": "parcoords"
           }
          ],
          "pie": [
           {
            "automargin": true,
            "type": "pie"
           }
          ],
          "scatter": [
           {
            "marker": {
             "colorbar": {
              "outlinewidth": 0,
              "ticks": ""
             }
            },
            "type": "scatter"
           }
          ],
          "scatter3d": [
           {
            "line": {
             "colorbar": {
              "outlinewidth": 0,
              "ticks": ""
             }
            },
            "marker": {
             "colorbar": {
              "outlinewidth": 0,
              "ticks": ""
             }
            },
            "type": "scatter3d"
           }
          ],
          "scattercarpet": [
           {
            "marker": {
             "colorbar": {
              "outlinewidth": 0,
              "ticks": ""
             }
            },
            "type": "scattercarpet"
           }
          ],
          "scattergeo": [
           {
            "marker": {
             "colorbar": {
              "outlinewidth": 0,
              "ticks": ""
             }
            },
            "type": "scattergeo"
           }
          ],
          "scattergl": [
           {
            "marker": {
             "colorbar": {
              "outlinewidth": 0,
              "ticks": ""
             }
            },
            "type": "scattergl"
           }
          ],
          "scattermapbox": [
           {
            "marker": {
             "colorbar": {
              "outlinewidth": 0,
              "ticks": ""
             }
            },
            "type": "scattermapbox"
           }
          ],
          "scatterpolar": [
           {
            "marker": {
             "colorbar": {
              "outlinewidth": 0,
              "ticks": ""
             }
            },
            "type": "scatterpolar"
           }
          ],
          "scatterpolargl": [
           {
            "marker": {
             "colorbar": {
              "outlinewidth": 0,
              "ticks": ""
             }
            },
            "type": "scatterpolargl"
           }
          ],
          "scatterternary": [
           {
            "marker": {
             "colorbar": {
              "outlinewidth": 0,
              "ticks": ""
             }
            },
            "type": "scatterternary"
           }
          ],
          "surface": [
           {
            "colorbar": {
             "outlinewidth": 0,
             "ticks": ""
            },
            "colorscale": [
             [
              0,
              "#0d0887"
             ],
             [
              0.1111111111111111,
              "#46039f"
             ],
             [
              0.2222222222222222,
              "#7201a8"
             ],
             [
              0.3333333333333333,
              "#9c179e"
             ],
             [
              0.4444444444444444,
              "#bd3786"
             ],
             [
              0.5555555555555556,
              "#d8576b"
             ],
             [
              0.6666666666666666,
              "#ed7953"
             ],
             [
              0.7777777777777778,
              "#fb9f3a"
             ],
             [
              0.8888888888888888,
              "#fdca26"
             ],
             [
              1,
              "#f0f921"
             ]
            ],
            "type": "surface"
           }
          ],
          "table": [
           {
            "cells": {
             "fill": {
              "color": "#EBF0F8"
             },
             "line": {
              "color": "white"
             }
            },
            "header": {
             "fill": {
              "color": "#C8D4E3"
             },
             "line": {
              "color": "white"
             }
            },
            "type": "table"
           }
          ]
         },
         "layout": {
          "annotationdefaults": {
           "arrowcolor": "#2a3f5f",
           "arrowhead": 0,
           "arrowwidth": 1
          },
          "autotypenumbers": "strict",
          "coloraxis": {
           "colorbar": {
            "outlinewidth": 0,
            "ticks": ""
           }
          },
          "colorscale": {
           "diverging": [
            [
             0,
             "#8e0152"
            ],
            [
             0.1,
             "#c51b7d"
            ],
            [
             0.2,
             "#de77ae"
            ],
            [
             0.3,
             "#f1b6da"
            ],
            [
             0.4,
             "#fde0ef"
            ],
            [
             0.5,
             "#f7f7f7"
            ],
            [
             0.6,
             "#e6f5d0"
            ],
            [
             0.7,
             "#b8e186"
            ],
            [
             0.8,
             "#7fbc41"
            ],
            [
             0.9,
             "#4d9221"
            ],
            [
             1,
             "#276419"
            ]
           ],
           "sequential": [
            [
             0,
             "#0d0887"
            ],
            [
             0.1111111111111111,
             "#46039f"
            ],
            [
             0.2222222222222222,
             "#7201a8"
            ],
            [
             0.3333333333333333,
             "#9c179e"
            ],
            [
             0.4444444444444444,
             "#bd3786"
            ],
            [
             0.5555555555555556,
             "#d8576b"
            ],
            [
             0.6666666666666666,
             "#ed7953"
            ],
            [
             0.7777777777777778,
             "#fb9f3a"
            ],
            [
             0.8888888888888888,
             "#fdca26"
            ],
            [
             1,
             "#f0f921"
            ]
           ],
           "sequentialminus": [
            [
             0,
             "#0d0887"
            ],
            [
             0.1111111111111111,
             "#46039f"
            ],
            [
             0.2222222222222222,
             "#7201a8"
            ],
            [
             0.3333333333333333,
             "#9c179e"
            ],
            [
             0.4444444444444444,
             "#bd3786"
            ],
            [
             0.5555555555555556,
             "#d8576b"
            ],
            [
             0.6666666666666666,
             "#ed7953"
            ],
            [
             0.7777777777777778,
             "#fb9f3a"
            ],
            [
             0.8888888888888888,
             "#fdca26"
            ],
            [
             1,
             "#f0f921"
            ]
           ]
          },
          "colorway": [
           "#636efa",
           "#EF553B",
           "#00cc96",
           "#ab63fa",
           "#FFA15A",
           "#19d3f3",
           "#FF6692",
           "#B6E880",
           "#FF97FF",
           "#FECB52"
          ],
          "font": {
           "color": "#2a3f5f"
          },
          "geo": {
           "bgcolor": "white",
           "lakecolor": "white",
           "landcolor": "#E5ECF6",
           "showlakes": true,
           "showland": true,
           "subunitcolor": "white"
          },
          "hoverlabel": {
           "align": "left"
          },
          "hovermode": "closest",
          "mapbox": {
           "style": "light"
          },
          "paper_bgcolor": "white",
          "plot_bgcolor": "#E5ECF6",
          "polar": {
           "angularaxis": {
            "gridcolor": "white",
            "linecolor": "white",
            "ticks": ""
           },
           "bgcolor": "#E5ECF6",
           "radialaxis": {
            "gridcolor": "white",
            "linecolor": "white",
            "ticks": ""
           }
          },
          "scene": {
           "xaxis": {
            "backgroundcolor": "#E5ECF6",
            "gridcolor": "white",
            "gridwidth": 2,
            "linecolor": "white",
            "showbackground": true,
            "ticks": "",
            "zerolinecolor": "white"
           },
           "yaxis": {
            "backgroundcolor": "#E5ECF6",
            "gridcolor": "white",
            "gridwidth": 2,
            "linecolor": "white",
            "showbackground": true,
            "ticks": "",
            "zerolinecolor": "white"
           },
           "zaxis": {
            "backgroundcolor": "#E5ECF6",
            "gridcolor": "white",
            "gridwidth": 2,
            "linecolor": "white",
            "showbackground": true,
            "ticks": "",
            "zerolinecolor": "white"
           }
          },
          "shapedefaults": {
           "line": {
            "color": "#2a3f5f"
           }
          },
          "ternary": {
           "aaxis": {
            "gridcolor": "white",
            "linecolor": "white",
            "ticks": ""
           },
           "baxis": {
            "gridcolor": "white",
            "linecolor": "white",
            "ticks": ""
           },
           "bgcolor": "#E5ECF6",
           "caxis": {
            "gridcolor": "white",
            "linecolor": "white",
            "ticks": ""
           }
          },
          "title": {
           "x": 0.05
          },
          "xaxis": {
           "automargin": true,
           "gridcolor": "white",
           "linecolor": "white",
           "ticks": "",
           "title": {
            "standoff": 15
           },
           "zerolinecolor": "white",
           "zerolinewidth": 2
          },
          "yaxis": {
           "automargin": true,
           "gridcolor": "white",
           "linecolor": "white",
           "ticks": "",
           "title": {
            "standoff": 15
           },
           "zerolinecolor": "white",
           "zerolinewidth": 2
          }
         }
        }
       }
      },
      "text/html": [
       "<div>                            <div id=\"6470223a-8ffa-4624-a5d8-d37279c46a53\" class=\"plotly-graph-div\" style=\"height:525px; width:100%;\"></div>            <script type=\"text/javascript\">                require([\"plotly\"], function(Plotly) {                    window.PLOTLYENV=window.PLOTLYENV || {};                                    if (document.getElementById(\"6470223a-8ffa-4624-a5d8-d37279c46a53\")) {                    Plotly.newPlot(                        \"6470223a-8ffa-4624-a5d8-d37279c46a53\",                        [{\"hovertemplate\": \"x=%{x}<br>y=%{y}<br>z=%{z}<extra></extra>\", \"legendgroup\": \"\", \"marker\": {\"color\": \"#636efa\", \"symbol\": \"circle\"}, \"mode\": \"markers\", \"name\": \"\", \"scene\": \"scene\", \"showlegend\": false, \"type\": \"scatter3d\", \"x\": [-102.45828664755196, -81.1843914473308, -63.34896395302701, -48.403749871387426, -35.88630060537817, -25.406895241560335, -16.637377863924723, -9.301647453171054, -3.1675694587391057, 1.959892829319645, 6.244502792001, 9.823683162342824, 12.812688420504038, 15.308130181390235, 17.39095285579061, 19.1289429224446, 20.578843045640394, 21.788131806114162, 22.796520790129687, 23.63721302569696, 24.337960105055306, 24.92194964413773, 25.40854987382013, 25.813934020282456, 26.1516036124906, 26.432826865954603, 26.667005757192673, 26.86198325654659, 27.024300370967964, 27.159411113875716], \"y\": [121.35925087510485, 98.15038927280241, 79.33478944732508, 64.0739654289569, 51.690724021334326, 41.63790858414807, 33.473241288784834, 26.83906652616526, 21.446034540979813, 17.05995385428221, 13.491192965834227, 10.586133677075413, 8.220276128493204, 6.29267408977674, 4.721442010201102, 3.4401258988139345, 2.394770716577711, 1.5415495940648518, 0.8448464157260619, 0.27570439909151034, -0.18942974226351472, -0.5697228170993577, -0.8807791380550064, -1.1353084048089692, -1.3436673042935732, -1.514298903871358, -1.6540892868465198, -1.7686571488464258, -1.8625890638602716, -1.9396306997097164], \"z\": [418301119.5885374, 284912588.1289921, 194545211.05181247, 133253955.52312997, 91638625.49308446, 63353972.030531414, 44111259.23728392, 31008115.631710626, 22078041.900908563, 15987130.20808693, 11829599.08225496, 8989759.549626498, 7048707.200181888, 5721169.462572761, 4812711.860385524, 4190707.3284914177, 3764621.1835932024, 3472608.9401395163, 3272396.8940121983, 3135071.318862195, 3040845.0147636286, 2976169.3899937198, 2931762.959337781, 2901264.520617598, 2880312.48105918, 2865915.114153259, 2856019.570783133, 2849216.760573407, 2844539.171373084, 2841322.296143108]}, {\"type\": \"surface\", \"x\": [-150.0, -116.66666666666666, -83.33333333333333, -50.0, -16.666666666666657, 16.666666666666686, 50.0, 83.33333333333334, 116.66666666666669, 150.0], \"y\": [-150.0, -116.66666666666666, -83.33333333333333, -50.0, -16.666666666666657, 16.666666666666686, 50.0, 83.33333333333334, 116.66666666666669, 150.0], \"z\": [[527392929.2705172, 427967828.14549404, 347917445.20358884, 287241780.44480187, 245940833.8691329, 224014605.47658214, 221463095.26714945, 238286303.24083477, 274484229.3976383, 330056873.73755985], [433109553.5075204, 334982394.4079833, 256229953.49156436, 196852230.75826353, 156849226.20808077, 136220939.8410161, 134967371.65706953, 153088521.65624106, 190584389.83853072, 247454976.2039384], [361048399.96674585, 264219182.89269492, 186764684.00176212, 128684903.29394746, 89979840.7692508, 70649496.42767228, 70693870.26921189, 90112962.29386957, 128906772.50164537, 187075300.8925392], [311209468.64819354, 215678193.59962872, 139521636.73418212, 82739798.05185355, 45332677.55264308, 27300275.23655072, 28642591.103576463, 49359625.153720304, 89451377.38698225, 148917847.80336225], [283592759.55186343, 189359426.52878478, 114500811.68882428, 59016915.03198186, 22907736.55825756, 6173276.267651357, 8813534.160163252, 30828510.235793248, 72218204.49454138, 132982616.93640749], [278198272.67775553, 185262881.68016306, 111702208.86568867, 57516254.23433245, 22705017.78609428, 7268499.520974231, 11206699.438972281, 34519617.540088445, 77207253.8243227, 139269608.291675], [295026008.0258698, 203388559.05376348, 131125828.26477529, 78237815.6589052, 44724521.2361532, 30585944.996519312, 35822086.94000351, 60432947.066605814, 104418525.37632625, 167778821.86916468], [334075965.5962063, 243736458.6495862, 172771669.88608417, 121181599.30570023, 88966246.90843438, 76125612.69428663, 82659696.66325699, 108568498.81534544, 153852019.150552, 218510257.6688766], [395348145.3887652, 306306580.4676312, 236639733.72961524, 186347605.1747175, 155430194.8029378, 143887502.6142762, 151719528.6087327, 178926272.78630733, 225507735.14700004, 291463915.69081086], [478842547.40354604, 391098924.5078983, 322730019.7953685, 273735833.2659568, 244116364.91966337, 233871614.7564879, 243001582.77643058, 271506268.9794914, 319385673.3656702, 386639795.93496716]]}],                        {\"legend\": {\"tracegroupgap\": 0}, \"margin\": {\"t\": 60}, \"scene\": {\"domain\": {\"x\": [0.0, 1.0], \"y\": [0.0, 1.0]}, \"xaxis\": {\"title\": {\"text\": \"x\"}}, \"yaxis\": {\"title\": {\"text\": \"y\"}}, \"zaxis\": {\"title\": {\"text\": \"z\"}}}, \"template\": {\"data\": {\"bar\": [{\"error_x\": {\"color\": \"#2a3f5f\"}, \"error_y\": {\"color\": \"#2a3f5f\"}, \"marker\": {\"line\": {\"color\": \"#E5ECF6\", \"width\": 0.5}}, \"type\": \"bar\"}], \"barpolar\": [{\"marker\": {\"line\": {\"color\": \"#E5ECF6\", \"width\": 0.5}}, \"type\": \"barpolar\"}], \"carpet\": [{\"aaxis\": {\"endlinecolor\": \"#2a3f5f\", \"gridcolor\": \"white\", \"linecolor\": \"white\", \"minorgridcolor\": \"white\", \"startlinecolor\": \"#2a3f5f\"}, \"baxis\": {\"endlinecolor\": \"#2a3f5f\", \"gridcolor\": \"white\", \"linecolor\": \"white\", \"minorgridcolor\": \"white\", \"startlinecolor\": \"#2a3f5f\"}, \"type\": \"carpet\"}], \"choropleth\": [{\"colorbar\": {\"outlinewidth\": 0, \"ticks\": \"\"}, \"type\": \"choropleth\"}], \"contour\": [{\"colorbar\": {\"outlinewidth\": 0, \"ticks\": \"\"}, \"colorscale\": [[0.0, \"#0d0887\"], [0.1111111111111111, \"#46039f\"], [0.2222222222222222, \"#7201a8\"], [0.3333333333333333, \"#9c179e\"], [0.4444444444444444, \"#bd3786\"], [0.5555555555555556, \"#d8576b\"], [0.6666666666666666, \"#ed7953\"], [0.7777777777777778, \"#fb9f3a\"], [0.8888888888888888, \"#fdca26\"], [1.0, \"#f0f921\"]], \"type\": \"contour\"}], \"contourcarpet\": [{\"colorbar\": {\"outlinewidth\": 0, \"ticks\": \"\"}, \"type\": \"contourcarpet\"}], \"heatmap\": [{\"colorbar\": {\"outlinewidth\": 0, \"ticks\": \"\"}, \"colorscale\": [[0.0, \"#0d0887\"], [0.1111111111111111, \"#46039f\"], [0.2222222222222222, \"#7201a8\"], [0.3333333333333333, \"#9c179e\"], [0.4444444444444444, \"#bd3786\"], [0.5555555555555556, \"#d8576b\"], [0.6666666666666666, \"#ed7953\"], [0.7777777777777778, \"#fb9f3a\"], [0.8888888888888888, \"#fdca26\"], [1.0, \"#f0f921\"]], \"type\": \"heatmap\"}], \"heatmapgl\": [{\"colorbar\": {\"outlinewidth\": 0, \"ticks\": \"\"}, \"colorscale\": [[0.0, \"#0d0887\"], [0.1111111111111111, \"#46039f\"], [0.2222222222222222, \"#7201a8\"], [0.3333333333333333, \"#9c179e\"], [0.4444444444444444, \"#bd3786\"], [0.5555555555555556, \"#d8576b\"], [0.6666666666666666, \"#ed7953\"], [0.7777777777777778, \"#fb9f3a\"], [0.8888888888888888, \"#fdca26\"], [1.0, \"#f0f921\"]], \"type\": \"heatmapgl\"}], \"histogram\": [{\"marker\": {\"colorbar\": {\"outlinewidth\": 0, \"ticks\": \"\"}}, \"type\": \"histogram\"}], \"histogram2d\": [{\"colorbar\": {\"outlinewidth\": 0, \"ticks\": \"\"}, \"colorscale\": [[0.0, \"#0d0887\"], [0.1111111111111111, \"#46039f\"], [0.2222222222222222, \"#7201a8\"], [0.3333333333333333, \"#9c179e\"], [0.4444444444444444, \"#bd3786\"], [0.5555555555555556, \"#d8576b\"], [0.6666666666666666, \"#ed7953\"], [0.7777777777777778, \"#fb9f3a\"], [0.8888888888888888, \"#fdca26\"], [1.0, \"#f0f921\"]], \"type\": \"histogram2d\"}], \"histogram2dcontour\": [{\"colorbar\": {\"outlinewidth\": 0, \"ticks\": \"\"}, \"colorscale\": [[0.0, \"#0d0887\"], [0.1111111111111111, \"#46039f\"], [0.2222222222222222, \"#7201a8\"], [0.3333333333333333, \"#9c179e\"], [0.4444444444444444, \"#bd3786\"], [0.5555555555555556, \"#d8576b\"], [0.6666666666666666, \"#ed7953\"], [0.7777777777777778, \"#fb9f3a\"], [0.8888888888888888, \"#fdca26\"], [1.0, \"#f0f921\"]], \"type\": \"histogram2dcontour\"}], \"mesh3d\": [{\"colorbar\": {\"outlinewidth\": 0, \"ticks\": \"\"}, \"type\": \"mesh3d\"}], \"parcoords\": [{\"line\": {\"colorbar\": {\"outlinewidth\": 0, \"ticks\": \"\"}}, \"type\": \"parcoords\"}], \"pie\": [{\"automargin\": true, \"type\": \"pie\"}], \"scatter\": [{\"marker\": {\"colorbar\": {\"outlinewidth\": 0, \"ticks\": \"\"}}, \"type\": \"scatter\"}], \"scatter3d\": [{\"line\": {\"colorbar\": {\"outlinewidth\": 0, \"ticks\": \"\"}}, \"marker\": {\"colorbar\": {\"outlinewidth\": 0, \"ticks\": \"\"}}, \"type\": \"scatter3d\"}], \"scattercarpet\": [{\"marker\": {\"colorbar\": {\"outlinewidth\": 0, \"ticks\": \"\"}}, \"type\": \"scattercarpet\"}], \"scattergeo\": [{\"marker\": {\"colorbar\": {\"outlinewidth\": 0, \"ticks\": \"\"}}, \"type\": \"scattergeo\"}], \"scattergl\": [{\"marker\": {\"colorbar\": {\"outlinewidth\": 0, \"ticks\": \"\"}}, \"type\": \"scattergl\"}], \"scattermapbox\": [{\"marker\": {\"colorbar\": {\"outlinewidth\": 0, \"ticks\": \"\"}}, \"type\": \"scattermapbox\"}], \"scatterpolar\": [{\"marker\": {\"colorbar\": {\"outlinewidth\": 0, \"ticks\": \"\"}}, \"type\": \"scatterpolar\"}], \"scatterpolargl\": [{\"marker\": {\"colorbar\": {\"outlinewidth\": 0, \"ticks\": \"\"}}, \"type\": \"scatterpolargl\"}], \"scatterternary\": [{\"marker\": {\"colorbar\": {\"outlinewidth\": 0, \"ticks\": \"\"}}, \"type\": \"scatterternary\"}], \"surface\": [{\"colorbar\": {\"outlinewidth\": 0, \"ticks\": \"\"}, \"colorscale\": [[0.0, \"#0d0887\"], [0.1111111111111111, \"#46039f\"], [0.2222222222222222, \"#7201a8\"], [0.3333333333333333, \"#9c179e\"], [0.4444444444444444, \"#bd3786\"], [0.5555555555555556, \"#d8576b\"], [0.6666666666666666, \"#ed7953\"], [0.7777777777777778, \"#fb9f3a\"], [0.8888888888888888, \"#fdca26\"], [1.0, \"#f0f921\"]], \"type\": \"surface\"}], \"table\": [{\"cells\": {\"fill\": {\"color\": \"#EBF0F8\"}, \"line\": {\"color\": \"white\"}}, \"header\": {\"fill\": {\"color\": \"#C8D4E3\"}, \"line\": {\"color\": \"white\"}}, \"type\": \"table\"}]}, \"layout\": {\"annotationdefaults\": {\"arrowcolor\": \"#2a3f5f\", \"arrowhead\": 0, \"arrowwidth\": 1}, \"autotypenumbers\": \"strict\", \"coloraxis\": {\"colorbar\": {\"outlinewidth\": 0, \"ticks\": \"\"}}, \"colorscale\": {\"diverging\": [[0, \"#8e0152\"], [0.1, \"#c51b7d\"], [0.2, \"#de77ae\"], [0.3, \"#f1b6da\"], [0.4, \"#fde0ef\"], [0.5, \"#f7f7f7\"], [0.6, \"#e6f5d0\"], [0.7, \"#b8e186\"], [0.8, \"#7fbc41\"], [0.9, \"#4d9221\"], [1, \"#276419\"]], \"sequential\": [[0.0, \"#0d0887\"], [0.1111111111111111, \"#46039f\"], [0.2222222222222222, \"#7201a8\"], [0.3333333333333333, \"#9c179e\"], [0.4444444444444444, \"#bd3786\"], [0.5555555555555556, \"#d8576b\"], [0.6666666666666666, \"#ed7953\"], [0.7777777777777778, \"#fb9f3a\"], [0.8888888888888888, \"#fdca26\"], [1.0, \"#f0f921\"]], \"sequentialminus\": [[0.0, \"#0d0887\"], [0.1111111111111111, \"#46039f\"], [0.2222222222222222, \"#7201a8\"], [0.3333333333333333, \"#9c179e\"], [0.4444444444444444, \"#bd3786\"], [0.5555555555555556, \"#d8576b\"], [0.6666666666666666, \"#ed7953\"], [0.7777777777777778, \"#fb9f3a\"], [0.8888888888888888, \"#fdca26\"], [1.0, \"#f0f921\"]]}, \"colorway\": [\"#636efa\", \"#EF553B\", \"#00cc96\", \"#ab63fa\", \"#FFA15A\", \"#19d3f3\", \"#FF6692\", \"#B6E880\", \"#FF97FF\", \"#FECB52\"], \"font\": {\"color\": \"#2a3f5f\"}, \"geo\": {\"bgcolor\": \"white\", \"lakecolor\": \"white\", \"landcolor\": \"#E5ECF6\", \"showlakes\": true, \"showland\": true, \"subunitcolor\": \"white\"}, \"hoverlabel\": {\"align\": \"left\"}, \"hovermode\": \"closest\", \"mapbox\": {\"style\": \"light\"}, \"paper_bgcolor\": \"white\", \"plot_bgcolor\": \"#E5ECF6\", \"polar\": {\"angularaxis\": {\"gridcolor\": \"white\", \"linecolor\": \"white\", \"ticks\": \"\"}, \"bgcolor\": \"#E5ECF6\", \"radialaxis\": {\"gridcolor\": \"white\", \"linecolor\": \"white\", \"ticks\": \"\"}}, \"scene\": {\"xaxis\": {\"backgroundcolor\": \"#E5ECF6\", \"gridcolor\": \"white\", \"gridwidth\": 2, \"linecolor\": \"white\", \"showbackground\": true, \"ticks\": \"\", \"zerolinecolor\": \"white\"}, \"yaxis\": {\"backgroundcolor\": \"#E5ECF6\", \"gridcolor\": \"white\", \"gridwidth\": 2, \"linecolor\": \"white\", \"showbackground\": true, \"ticks\": \"\", \"zerolinecolor\": \"white\"}, \"zaxis\": {\"backgroundcolor\": \"#E5ECF6\", \"gridcolor\": \"white\", \"gridwidth\": 2, \"linecolor\": \"white\", \"showbackground\": true, \"ticks\": \"\", \"zerolinecolor\": \"white\"}}, \"shapedefaults\": {\"line\": {\"color\": \"#2a3f5f\"}}, \"ternary\": {\"aaxis\": {\"gridcolor\": \"white\", \"linecolor\": \"white\", \"ticks\": \"\"}, \"baxis\": {\"gridcolor\": \"white\", \"linecolor\": \"white\", \"ticks\": \"\"}, \"bgcolor\": \"#E5ECF6\", \"caxis\": {\"gridcolor\": \"white\", \"linecolor\": \"white\", \"ticks\": \"\"}}, \"title\": {\"x\": 0.05}, \"xaxis\": {\"automargin\": true, \"gridcolor\": \"white\", \"linecolor\": \"white\", \"ticks\": \"\", \"title\": {\"standoff\": 15}, \"zerolinecolor\": \"white\", \"zerolinewidth\": 2}, \"yaxis\": {\"automargin\": true, \"gridcolor\": \"white\", \"linecolor\": \"white\", \"ticks\": \"\", \"title\": {\"standoff\": 15}, \"zerolinecolor\": \"white\", \"zerolinewidth\": 2}}}},                        {\"responsive\": true}                    ).then(function(){\n",
       "                            \n",
       "var gd = document.getElementById('6470223a-8ffa-4624-a5d8-d37279c46a53');\n",
       "var x = new MutationObserver(function (mutations, observer) {{\n",
       "        var display = window.getComputedStyle(gd).display;\n",
       "        if (!display || display === 'none') {{\n",
       "            console.log([gd, 'removed!']);\n",
       "            Plotly.purge(gd);\n",
       "            observer.disconnect();\n",
       "        }}\n",
       "}});\n",
       "\n",
       "// Listen for the removal of the full notebook cells\n",
       "var notebookContainer = gd.closest('#notebook-container');\n",
       "if (notebookContainer) {{\n",
       "    x.observe(notebookContainer, {childList: true});\n",
       "}}\n",
       "\n",
       "// Listen for the clearing of the current output cell\n",
       "var outputEl = gd.closest('.output');\n",
       "if (outputEl) {{\n",
       "    x.observe(outputEl, {childList: true});\n",
       "}}\n",
       "\n",
       "                        })                };                });            </script>        </div>"
      ]
     },
     "metadata": {},
     "output_type": "display_data"
    }
   ],
   "source": [
    "import plotly.express as px\n",
    "\n",
    "fig = px.scatter_3d(x=np.array(all_m).ravel(), y=np.array(all_b).ravel(), z=np.array(all_cost).ravel()*100)\n",
    "\n",
    "fig.add_trace(go.Surface(x = m_arr, y = b_arr, z =z_arr*100 ))\n",
    "\n",
    "fig.show()\n",
    "\n",
    "fig.write_html(\"cost_function2.html\")"
   ]
  },
  {
   "cell_type": "code",
   "execution_count": 60,
   "id": "1060346b",
   "metadata": {},
   "outputs": [
    {
     "data": {
      "application/vnd.plotly.v1+json": {
       "config": {
        "plotlyServerURL": "https://plot.ly"
       },
       "data": [
        {
         "line": {
          "color": "#fff",
          "width": 4
         },
         "name": "High 2014",
         "type": "scatter",
         "x": [
          -102.45828664755196,
          -81.1843914473308,
          -63.34896395302701,
          -48.403749871387426,
          -35.88630060537817,
          -25.406895241560335,
          -16.637377863924723,
          -9.301647453171054,
          -3.1675694587391057,
          1.959892829319645,
          6.244502792001,
          9.823683162342824,
          12.812688420504038,
          15.308130181390235,
          17.39095285579061,
          19.1289429224446,
          20.578843045640394,
          21.788131806114162,
          22.796520790129687,
          23.63721302569696,
          24.337960105055306,
          24.92194964413773,
          25.40854987382013,
          25.813934020282456,
          26.1516036124906,
          26.432826865954603,
          26.667005757192673,
          26.86198325654659,
          27.024300370967964,
          27.159411113875716
         ],
         "y": [
          121.35925087510485,
          98.15038927280241,
          79.33478944732508,
          64.0739654289569,
          51.690724021334326,
          41.63790858414807,
          33.473241288784834,
          26.83906652616526,
          21.446034540979813,
          17.05995385428221,
          13.491192965834227,
          10.586133677075413,
          8.220276128493204,
          6.29267408977674,
          4.721442010201102,
          3.4401258988139345,
          2.394770716577711,
          1.5415495940648518,
          0.8448464157260619,
          0.27570439909151034,
          -0.18942974226351472,
          -0.5697228170993577,
          -0.8807791380550064,
          -1.1353084048089692,
          -1.3436673042935732,
          -1.514298903871358,
          -1.6540892868465198,
          -1.7686571488464258,
          -1.8625890638602716,
          -1.9396306997097164
         ]
        },
        {
         "type": "contour",
         "x": [
          -150,
          -116.66666666666666,
          -83.33333333333333,
          -50,
          -16.666666666666657,
          16.666666666666686,
          50,
          83.33333333333334,
          116.66666666666669,
          150
         ],
         "y": [
          -150,
          -116.66666666666666,
          -83.33333333333333,
          -50,
          -16.666666666666657,
          16.666666666666686,
          50,
          83.33333333333334,
          116.66666666666669,
          150
         ],
         "z": [
          [
           5273929.292705172,
           4279678.28145494,
           3479174.4520358886,
           2872417.804448019,
           2459408.338691329,
           2240146.0547658214,
           2214630.9526714943,
           2382863.032408348,
           2744842.2939763833,
           3300568.7373755984
          ],
          [
           4331095.5350752035,
           3349823.944079833,
           2562299.5349156437,
           1968522.3075826352,
           1568492.2620808077,
           1362209.398410161,
           1349673.7165706954,
           1530885.2165624106,
           1905843.8983853073,
           2474549.762039384
          ],
          [
           3610483.9996674587,
           2642191.8289269493,
           1867646.8400176212,
           1286849.0329394746,
           899798.407692508,
           706494.9642767227,
           706938.7026921188,
           901129.6229386957,
           1289067.7250164538,
           1870753.008925392
          ],
          [
           3112094.6864819354,
           2156781.935996287,
           1395216.367341821,
           827397.9805185355,
           453326.7755264308,
           273002.7523655072,
           286425.9110357646,
           493596.25153720303,
           894513.7738698225,
           1489178.4780336225
          ],
          [
           2835927.595518634,
           1893594.2652878477,
           1145008.1168882428,
           590169.1503198186,
           229077.3655825756,
           61732.76267651357,
           88135.34160163252,
           308285.1023579325,
           722182.0449454137,
           1329826.169364075
          ],
          [
           2781982.7267775554,
           1852628.8168016304,
           1117022.0886568867,
           575162.5423433245,
           227050.17786094281,
           72684.99520974231,
           112066.99438972281,
           345196.1754008845,
           772072.5382432269,
           1392696.08291675
          ],
          [
           2950260.0802586977,
           2033885.590537635,
           1311258.282647753,
           782378.1565890519,
           447245.21236153203,
           305859.4499651931,
           358220.86940003507,
           604329.4706660581,
           1044185.2537632624,
           1677788.2186916468
          ],
          [
           3340759.655962063,
           2437364.586495862,
           1727716.6988608418,
           1211815.9930570023,
           889662.4690843438,
           761256.1269428664,
           826596.9666325699,
           1085684.9881534544,
           1538520.1915055201,
           2185102.576688766
          ],
          [
           3953481.453887652,
           3063065.804676312,
           2366397.3372961525,
           1863476.051747175,
           1554301.948029378,
           1438875.026142762,
           1517195.286087327,
           1789262.7278630733,
           2255077.3514700006,
           2914639.1569081084
          ],
          [
           4788425.4740354605,
           3910989.245078983,
           3227300.197953685,
           2737358.332659568,
           2441163.6491966336,
           2338716.147564879,
           2430015.8277643058,
           2715062.689794914,
           3193856.733656702,
           3866397.9593496714
          ]
         ]
        }
       ],
       "layout": {
        "template": {
         "data": {
          "bar": [
           {
            "error_x": {
             "color": "#2a3f5f"
            },
            "error_y": {
             "color": "#2a3f5f"
            },
            "marker": {
             "line": {
              "color": "#E5ECF6",
              "width": 0.5
             }
            },
            "type": "bar"
           }
          ],
          "barpolar": [
           {
            "marker": {
             "line": {
              "color": "#E5ECF6",
              "width": 0.5
             }
            },
            "type": "barpolar"
           }
          ],
          "carpet": [
           {
            "aaxis": {
             "endlinecolor": "#2a3f5f",
             "gridcolor": "white",
             "linecolor": "white",
             "minorgridcolor": "white",
             "startlinecolor": "#2a3f5f"
            },
            "baxis": {
             "endlinecolor": "#2a3f5f",
             "gridcolor": "white",
             "linecolor": "white",
             "minorgridcolor": "white",
             "startlinecolor": "#2a3f5f"
            },
            "type": "carpet"
           }
          ],
          "choropleth": [
           {
            "colorbar": {
             "outlinewidth": 0,
             "ticks": ""
            },
            "type": "choropleth"
           }
          ],
          "contour": [
           {
            "colorbar": {
             "outlinewidth": 0,
             "ticks": ""
            },
            "colorscale": [
             [
              0,
              "#0d0887"
             ],
             [
              0.1111111111111111,
              "#46039f"
             ],
             [
              0.2222222222222222,
              "#7201a8"
             ],
             [
              0.3333333333333333,
              "#9c179e"
             ],
             [
              0.4444444444444444,
              "#bd3786"
             ],
             [
              0.5555555555555556,
              "#d8576b"
             ],
             [
              0.6666666666666666,
              "#ed7953"
             ],
             [
              0.7777777777777778,
              "#fb9f3a"
             ],
             [
              0.8888888888888888,
              "#fdca26"
             ],
             [
              1,
              "#f0f921"
             ]
            ],
            "type": "contour"
           }
          ],
          "contourcarpet": [
           {
            "colorbar": {
             "outlinewidth": 0,
             "ticks": ""
            },
            "type": "contourcarpet"
           }
          ],
          "heatmap": [
           {
            "colorbar": {
             "outlinewidth": 0,
             "ticks": ""
            },
            "colorscale": [
             [
              0,
              "#0d0887"
             ],
             [
              0.1111111111111111,
              "#46039f"
             ],
             [
              0.2222222222222222,
              "#7201a8"
             ],
             [
              0.3333333333333333,
              "#9c179e"
             ],
             [
              0.4444444444444444,
              "#bd3786"
             ],
             [
              0.5555555555555556,
              "#d8576b"
             ],
             [
              0.6666666666666666,
              "#ed7953"
             ],
             [
              0.7777777777777778,
              "#fb9f3a"
             ],
             [
              0.8888888888888888,
              "#fdca26"
             ],
             [
              1,
              "#f0f921"
             ]
            ],
            "type": "heatmap"
           }
          ],
          "heatmapgl": [
           {
            "colorbar": {
             "outlinewidth": 0,
             "ticks": ""
            },
            "colorscale": [
             [
              0,
              "#0d0887"
             ],
             [
              0.1111111111111111,
              "#46039f"
             ],
             [
              0.2222222222222222,
              "#7201a8"
             ],
             [
              0.3333333333333333,
              "#9c179e"
             ],
             [
              0.4444444444444444,
              "#bd3786"
             ],
             [
              0.5555555555555556,
              "#d8576b"
             ],
             [
              0.6666666666666666,
              "#ed7953"
             ],
             [
              0.7777777777777778,
              "#fb9f3a"
             ],
             [
              0.8888888888888888,
              "#fdca26"
             ],
             [
              1,
              "#f0f921"
             ]
            ],
            "type": "heatmapgl"
           }
          ],
          "histogram": [
           {
            "marker": {
             "colorbar": {
              "outlinewidth": 0,
              "ticks": ""
             }
            },
            "type": "histogram"
           }
          ],
          "histogram2d": [
           {
            "colorbar": {
             "outlinewidth": 0,
             "ticks": ""
            },
            "colorscale": [
             [
              0,
              "#0d0887"
             ],
             [
              0.1111111111111111,
              "#46039f"
             ],
             [
              0.2222222222222222,
              "#7201a8"
             ],
             [
              0.3333333333333333,
              "#9c179e"
             ],
             [
              0.4444444444444444,
              "#bd3786"
             ],
             [
              0.5555555555555556,
              "#d8576b"
             ],
             [
              0.6666666666666666,
              "#ed7953"
             ],
             [
              0.7777777777777778,
              "#fb9f3a"
             ],
             [
              0.8888888888888888,
              "#fdca26"
             ],
             [
              1,
              "#f0f921"
             ]
            ],
            "type": "histogram2d"
           }
          ],
          "histogram2dcontour": [
           {
            "colorbar": {
             "outlinewidth": 0,
             "ticks": ""
            },
            "colorscale": [
             [
              0,
              "#0d0887"
             ],
             [
              0.1111111111111111,
              "#46039f"
             ],
             [
              0.2222222222222222,
              "#7201a8"
             ],
             [
              0.3333333333333333,
              "#9c179e"
             ],
             [
              0.4444444444444444,
              "#bd3786"
             ],
             [
              0.5555555555555556,
              "#d8576b"
             ],
             [
              0.6666666666666666,
              "#ed7953"
             ],
             [
              0.7777777777777778,
              "#fb9f3a"
             ],
             [
              0.8888888888888888,
              "#fdca26"
             ],
             [
              1,
              "#f0f921"
             ]
            ],
            "type": "histogram2dcontour"
           }
          ],
          "mesh3d": [
           {
            "colorbar": {
             "outlinewidth": 0,
             "ticks": ""
            },
            "type": "mesh3d"
           }
          ],
          "parcoords": [
           {
            "line": {
             "colorbar": {
              "outlinewidth": 0,
              "ticks": ""
             }
            },
            "type": "parcoords"
           }
          ],
          "pie": [
           {
            "automargin": true,
            "type": "pie"
           }
          ],
          "scatter": [
           {
            "marker": {
             "colorbar": {
              "outlinewidth": 0,
              "ticks": ""
             }
            },
            "type": "scatter"
           }
          ],
          "scatter3d": [
           {
            "line": {
             "colorbar": {
              "outlinewidth": 0,
              "ticks": ""
             }
            },
            "marker": {
             "colorbar": {
              "outlinewidth": 0,
              "ticks": ""
             }
            },
            "type": "scatter3d"
           }
          ],
          "scattercarpet": [
           {
            "marker": {
             "colorbar": {
              "outlinewidth": 0,
              "ticks": ""
             }
            },
            "type": "scattercarpet"
           }
          ],
          "scattergeo": [
           {
            "marker": {
             "colorbar": {
              "outlinewidth": 0,
              "ticks": ""
             }
            },
            "type": "scattergeo"
           }
          ],
          "scattergl": [
           {
            "marker": {
             "colorbar": {
              "outlinewidth": 0,
              "ticks": ""
             }
            },
            "type": "scattergl"
           }
          ],
          "scattermapbox": [
           {
            "marker": {
             "colorbar": {
              "outlinewidth": 0,
              "ticks": ""
             }
            },
            "type": "scattermapbox"
           }
          ],
          "scatterpolar": [
           {
            "marker": {
             "colorbar": {
              "outlinewidth": 0,
              "ticks": ""
             }
            },
            "type": "scatterpolar"
           }
          ],
          "scatterpolargl": [
           {
            "marker": {
             "colorbar": {
              "outlinewidth": 0,
              "ticks": ""
             }
            },
            "type": "scatterpolargl"
           }
          ],
          "scatterternary": [
           {
            "marker": {
             "colorbar": {
              "outlinewidth": 0,
              "ticks": ""
             }
            },
            "type": "scatterternary"
           }
          ],
          "surface": [
           {
            "colorbar": {
             "outlinewidth": 0,
             "ticks": ""
            },
            "colorscale": [
             [
              0,
              "#0d0887"
             ],
             [
              0.1111111111111111,
              "#46039f"
             ],
             [
              0.2222222222222222,
              "#7201a8"
             ],
             [
              0.3333333333333333,
              "#9c179e"
             ],
             [
              0.4444444444444444,
              "#bd3786"
             ],
             [
              0.5555555555555556,
              "#d8576b"
             ],
             [
              0.6666666666666666,
              "#ed7953"
             ],
             [
              0.7777777777777778,
              "#fb9f3a"
             ],
             [
              0.8888888888888888,
              "#fdca26"
             ],
             [
              1,
              "#f0f921"
             ]
            ],
            "type": "surface"
           }
          ],
          "table": [
           {
            "cells": {
             "fill": {
              "color": "#EBF0F8"
             },
             "line": {
              "color": "white"
             }
            },
            "header": {
             "fill": {
              "color": "#C8D4E3"
             },
             "line": {
              "color": "white"
             }
            },
            "type": "table"
           }
          ]
         },
         "layout": {
          "annotationdefaults": {
           "arrowcolor": "#2a3f5f",
           "arrowhead": 0,
           "arrowwidth": 1
          },
          "autotypenumbers": "strict",
          "coloraxis": {
           "colorbar": {
            "outlinewidth": 0,
            "ticks": ""
           }
          },
          "colorscale": {
           "diverging": [
            [
             0,
             "#8e0152"
            ],
            [
             0.1,
             "#c51b7d"
            ],
            [
             0.2,
             "#de77ae"
            ],
            [
             0.3,
             "#f1b6da"
            ],
            [
             0.4,
             "#fde0ef"
            ],
            [
             0.5,
             "#f7f7f7"
            ],
            [
             0.6,
             "#e6f5d0"
            ],
            [
             0.7,
             "#b8e186"
            ],
            [
             0.8,
             "#7fbc41"
            ],
            [
             0.9,
             "#4d9221"
            ],
            [
             1,
             "#276419"
            ]
           ],
           "sequential": [
            [
             0,
             "#0d0887"
            ],
            [
             0.1111111111111111,
             "#46039f"
            ],
            [
             0.2222222222222222,
             "#7201a8"
            ],
            [
             0.3333333333333333,
             "#9c179e"
            ],
            [
             0.4444444444444444,
             "#bd3786"
            ],
            [
             0.5555555555555556,
             "#d8576b"
            ],
            [
             0.6666666666666666,
             "#ed7953"
            ],
            [
             0.7777777777777778,
             "#fb9f3a"
            ],
            [
             0.8888888888888888,
             "#fdca26"
            ],
            [
             1,
             "#f0f921"
            ]
           ],
           "sequentialminus": [
            [
             0,
             "#0d0887"
            ],
            [
             0.1111111111111111,
             "#46039f"
            ],
            [
             0.2222222222222222,
             "#7201a8"
            ],
            [
             0.3333333333333333,
             "#9c179e"
            ],
            [
             0.4444444444444444,
             "#bd3786"
            ],
            [
             0.5555555555555556,
             "#d8576b"
            ],
            [
             0.6666666666666666,
             "#ed7953"
            ],
            [
             0.7777777777777778,
             "#fb9f3a"
            ],
            [
             0.8888888888888888,
             "#fdca26"
            ],
            [
             1,
             "#f0f921"
            ]
           ]
          },
          "colorway": [
           "#636efa",
           "#EF553B",
           "#00cc96",
           "#ab63fa",
           "#FFA15A",
           "#19d3f3",
           "#FF6692",
           "#B6E880",
           "#FF97FF",
           "#FECB52"
          ],
          "font": {
           "color": "#2a3f5f"
          },
          "geo": {
           "bgcolor": "white",
           "lakecolor": "white",
           "landcolor": "#E5ECF6",
           "showlakes": true,
           "showland": true,
           "subunitcolor": "white"
          },
          "hoverlabel": {
           "align": "left"
          },
          "hovermode": "closest",
          "mapbox": {
           "style": "light"
          },
          "paper_bgcolor": "white",
          "plot_bgcolor": "#E5ECF6",
          "polar": {
           "angularaxis": {
            "gridcolor": "white",
            "linecolor": "white",
            "ticks": ""
           },
           "bgcolor": "#E5ECF6",
           "radialaxis": {
            "gridcolor": "white",
            "linecolor": "white",
            "ticks": ""
           }
          },
          "scene": {
           "xaxis": {
            "backgroundcolor": "#E5ECF6",
            "gridcolor": "white",
            "gridwidth": 2,
            "linecolor": "white",
            "showbackground": true,
            "ticks": "",
            "zerolinecolor": "white"
           },
           "yaxis": {
            "backgroundcolor": "#E5ECF6",
            "gridcolor": "white",
            "gridwidth": 2,
            "linecolor": "white",
            "showbackground": true,
            "ticks": "",
            "zerolinecolor": "white"
           },
           "zaxis": {
            "backgroundcolor": "#E5ECF6",
            "gridcolor": "white",
            "gridwidth": 2,
            "linecolor": "white",
            "showbackground": true,
            "ticks": "",
            "zerolinecolor": "white"
           }
          },
          "shapedefaults": {
           "line": {
            "color": "#2a3f5f"
           }
          },
          "ternary": {
           "aaxis": {
            "gridcolor": "white",
            "linecolor": "white",
            "ticks": ""
           },
           "baxis": {
            "gridcolor": "white",
            "linecolor": "white",
            "ticks": ""
           },
           "bgcolor": "#E5ECF6",
           "caxis": {
            "gridcolor": "white",
            "linecolor": "white",
            "ticks": ""
           }
          },
          "title": {
           "x": 0.05
          },
          "xaxis": {
           "automargin": true,
           "gridcolor": "white",
           "linecolor": "white",
           "ticks": "",
           "title": {
            "standoff": 15
           },
           "zerolinecolor": "white",
           "zerolinewidth": 2
          },
          "yaxis": {
           "automargin": true,
           "gridcolor": "white",
           "linecolor": "white",
           "ticks": "",
           "title": {
            "standoff": 15
           },
           "zerolinecolor": "white",
           "zerolinewidth": 2
          }
         }
        }
       }
      },
      "text/html": [
       "<div>                            <div id=\"2cdbbc06-820a-4c12-8666-9a0a875ae939\" class=\"plotly-graph-div\" style=\"height:525px; width:100%;\"></div>            <script type=\"text/javascript\">                require([\"plotly\"], function(Plotly) {                    window.PLOTLYENV=window.PLOTLYENV || {};                                    if (document.getElementById(\"2cdbbc06-820a-4c12-8666-9a0a875ae939\")) {                    Plotly.newPlot(                        \"2cdbbc06-820a-4c12-8666-9a0a875ae939\",                        [{\"line\": {\"color\": \"#fff\", \"width\": 4}, \"name\": \"High 2014\", \"type\": \"scatter\", \"x\": [-102.45828664755196, -81.1843914473308, -63.34896395302701, -48.403749871387426, -35.88630060537817, -25.406895241560335, -16.637377863924723, -9.301647453171054, -3.1675694587391057, 1.959892829319645, 6.244502792001, 9.823683162342824, 12.812688420504038, 15.308130181390235, 17.39095285579061, 19.1289429224446, 20.578843045640394, 21.788131806114162, 22.796520790129687, 23.63721302569696, 24.337960105055306, 24.92194964413773, 25.40854987382013, 25.813934020282456, 26.1516036124906, 26.432826865954603, 26.667005757192673, 26.86198325654659, 27.024300370967964, 27.159411113875716], \"y\": [121.35925087510485, 98.15038927280241, 79.33478944732508, 64.0739654289569, 51.690724021334326, 41.63790858414807, 33.473241288784834, 26.83906652616526, 21.446034540979813, 17.05995385428221, 13.491192965834227, 10.586133677075413, 8.220276128493204, 6.29267408977674, 4.721442010201102, 3.4401258988139345, 2.394770716577711, 1.5415495940648518, 0.8448464157260619, 0.27570439909151034, -0.18942974226351472, -0.5697228170993577, -0.8807791380550064, -1.1353084048089692, -1.3436673042935732, -1.514298903871358, -1.6540892868465198, -1.7686571488464258, -1.8625890638602716, -1.9396306997097164]}, {\"type\": \"contour\", \"x\": [-150.0, -116.66666666666666, -83.33333333333333, -50.0, -16.666666666666657, 16.666666666666686, 50.0, 83.33333333333334, 116.66666666666669, 150.0], \"y\": [-150.0, -116.66666666666666, -83.33333333333333, -50.0, -16.666666666666657, 16.666666666666686, 50.0, 83.33333333333334, 116.66666666666669, 150.0], \"z\": [[5273929.292705172, 4279678.28145494, 3479174.4520358886, 2872417.804448019, 2459408.338691329, 2240146.0547658214, 2214630.9526714943, 2382863.032408348, 2744842.2939763833, 3300568.7373755984], [4331095.5350752035, 3349823.944079833, 2562299.5349156437, 1968522.3075826352, 1568492.2620808077, 1362209.398410161, 1349673.7165706954, 1530885.2165624106, 1905843.8983853073, 2474549.762039384], [3610483.9996674587, 2642191.8289269493, 1867646.8400176212, 1286849.0329394746, 899798.407692508, 706494.9642767227, 706938.7026921188, 901129.6229386957, 1289067.7250164538, 1870753.008925392], [3112094.6864819354, 2156781.935996287, 1395216.367341821, 827397.9805185355, 453326.7755264308, 273002.7523655072, 286425.9110357646, 493596.25153720303, 894513.7738698225, 1489178.4780336225], [2835927.595518634, 1893594.2652878477, 1145008.1168882428, 590169.1503198186, 229077.3655825756, 61732.76267651357, 88135.34160163252, 308285.1023579325, 722182.0449454137, 1329826.169364075], [2781982.7267775554, 1852628.8168016304, 1117022.0886568867, 575162.5423433245, 227050.17786094281, 72684.99520974231, 112066.99438972281, 345196.1754008845, 772072.5382432269, 1392696.08291675], [2950260.0802586977, 2033885.590537635, 1311258.282647753, 782378.1565890519, 447245.21236153203, 305859.4499651931, 358220.86940003507, 604329.4706660581, 1044185.2537632624, 1677788.2186916468], [3340759.655962063, 2437364.586495862, 1727716.6988608418, 1211815.9930570023, 889662.4690843438, 761256.1269428664, 826596.9666325699, 1085684.9881534544, 1538520.1915055201, 2185102.576688766], [3953481.453887652, 3063065.804676312, 2366397.3372961525, 1863476.051747175, 1554301.948029378, 1438875.026142762, 1517195.286087327, 1789262.7278630733, 2255077.3514700006, 2914639.1569081084], [4788425.4740354605, 3910989.245078983, 3227300.197953685, 2737358.332659568, 2441163.6491966336, 2338716.147564879, 2430015.8277643058, 2715062.689794914, 3193856.733656702, 3866397.9593496714]]}],                        {\"template\": {\"data\": {\"bar\": [{\"error_x\": {\"color\": \"#2a3f5f\"}, \"error_y\": {\"color\": \"#2a3f5f\"}, \"marker\": {\"line\": {\"color\": \"#E5ECF6\", \"width\": 0.5}}, \"type\": \"bar\"}], \"barpolar\": [{\"marker\": {\"line\": {\"color\": \"#E5ECF6\", \"width\": 0.5}}, \"type\": \"barpolar\"}], \"carpet\": [{\"aaxis\": {\"endlinecolor\": \"#2a3f5f\", \"gridcolor\": \"white\", \"linecolor\": \"white\", \"minorgridcolor\": \"white\", \"startlinecolor\": \"#2a3f5f\"}, \"baxis\": {\"endlinecolor\": \"#2a3f5f\", \"gridcolor\": \"white\", \"linecolor\": \"white\", \"minorgridcolor\": \"white\", \"startlinecolor\": \"#2a3f5f\"}, \"type\": \"carpet\"}], \"choropleth\": [{\"colorbar\": {\"outlinewidth\": 0, \"ticks\": \"\"}, \"type\": \"choropleth\"}], \"contour\": [{\"colorbar\": {\"outlinewidth\": 0, \"ticks\": \"\"}, \"colorscale\": [[0.0, \"#0d0887\"], [0.1111111111111111, \"#46039f\"], [0.2222222222222222, \"#7201a8\"], [0.3333333333333333, \"#9c179e\"], [0.4444444444444444, \"#bd3786\"], [0.5555555555555556, \"#d8576b\"], [0.6666666666666666, \"#ed7953\"], [0.7777777777777778, \"#fb9f3a\"], [0.8888888888888888, \"#fdca26\"], [1.0, \"#f0f921\"]], \"type\": \"contour\"}], \"contourcarpet\": [{\"colorbar\": {\"outlinewidth\": 0, \"ticks\": \"\"}, \"type\": \"contourcarpet\"}], \"heatmap\": [{\"colorbar\": {\"outlinewidth\": 0, \"ticks\": \"\"}, \"colorscale\": [[0.0, \"#0d0887\"], [0.1111111111111111, \"#46039f\"], [0.2222222222222222, \"#7201a8\"], [0.3333333333333333, \"#9c179e\"], [0.4444444444444444, \"#bd3786\"], [0.5555555555555556, \"#d8576b\"], [0.6666666666666666, \"#ed7953\"], [0.7777777777777778, \"#fb9f3a\"], [0.8888888888888888, \"#fdca26\"], [1.0, \"#f0f921\"]], \"type\": \"heatmap\"}], \"heatmapgl\": [{\"colorbar\": {\"outlinewidth\": 0, \"ticks\": \"\"}, \"colorscale\": [[0.0, \"#0d0887\"], [0.1111111111111111, \"#46039f\"], [0.2222222222222222, \"#7201a8\"], [0.3333333333333333, \"#9c179e\"], [0.4444444444444444, \"#bd3786\"], [0.5555555555555556, \"#d8576b\"], [0.6666666666666666, \"#ed7953\"], [0.7777777777777778, \"#fb9f3a\"], [0.8888888888888888, \"#fdca26\"], [1.0, \"#f0f921\"]], \"type\": \"heatmapgl\"}], \"histogram\": [{\"marker\": {\"colorbar\": {\"outlinewidth\": 0, \"ticks\": \"\"}}, \"type\": \"histogram\"}], \"histogram2d\": [{\"colorbar\": {\"outlinewidth\": 0, \"ticks\": \"\"}, \"colorscale\": [[0.0, \"#0d0887\"], [0.1111111111111111, \"#46039f\"], [0.2222222222222222, \"#7201a8\"], [0.3333333333333333, \"#9c179e\"], [0.4444444444444444, \"#bd3786\"], [0.5555555555555556, \"#d8576b\"], [0.6666666666666666, \"#ed7953\"], [0.7777777777777778, \"#fb9f3a\"], [0.8888888888888888, \"#fdca26\"], [1.0, \"#f0f921\"]], \"type\": \"histogram2d\"}], \"histogram2dcontour\": [{\"colorbar\": {\"outlinewidth\": 0, \"ticks\": \"\"}, \"colorscale\": [[0.0, \"#0d0887\"], [0.1111111111111111, \"#46039f\"], [0.2222222222222222, \"#7201a8\"], [0.3333333333333333, \"#9c179e\"], [0.4444444444444444, \"#bd3786\"], [0.5555555555555556, \"#d8576b\"], [0.6666666666666666, \"#ed7953\"], [0.7777777777777778, \"#fb9f3a\"], [0.8888888888888888, \"#fdca26\"], [1.0, \"#f0f921\"]], \"type\": \"histogram2dcontour\"}], \"mesh3d\": [{\"colorbar\": {\"outlinewidth\": 0, \"ticks\": \"\"}, \"type\": \"mesh3d\"}], \"parcoords\": [{\"line\": {\"colorbar\": {\"outlinewidth\": 0, \"ticks\": \"\"}}, \"type\": \"parcoords\"}], \"pie\": [{\"automargin\": true, \"type\": \"pie\"}], \"scatter\": [{\"marker\": {\"colorbar\": {\"outlinewidth\": 0, \"ticks\": \"\"}}, \"type\": \"scatter\"}], \"scatter3d\": [{\"line\": {\"colorbar\": {\"outlinewidth\": 0, \"ticks\": \"\"}}, \"marker\": {\"colorbar\": {\"outlinewidth\": 0, \"ticks\": \"\"}}, \"type\": \"scatter3d\"}], \"scattercarpet\": [{\"marker\": {\"colorbar\": {\"outlinewidth\": 0, \"ticks\": \"\"}}, \"type\": \"scattercarpet\"}], \"scattergeo\": [{\"marker\": {\"colorbar\": {\"outlinewidth\": 0, \"ticks\": \"\"}}, \"type\": \"scattergeo\"}], \"scattergl\": [{\"marker\": {\"colorbar\": {\"outlinewidth\": 0, \"ticks\": \"\"}}, \"type\": \"scattergl\"}], \"scattermapbox\": [{\"marker\": {\"colorbar\": {\"outlinewidth\": 0, \"ticks\": \"\"}}, \"type\": \"scattermapbox\"}], \"scatterpolar\": [{\"marker\": {\"colorbar\": {\"outlinewidth\": 0, \"ticks\": \"\"}}, \"type\": \"scatterpolar\"}], \"scatterpolargl\": [{\"marker\": {\"colorbar\": {\"outlinewidth\": 0, \"ticks\": \"\"}}, \"type\": \"scatterpolargl\"}], \"scatterternary\": [{\"marker\": {\"colorbar\": {\"outlinewidth\": 0, \"ticks\": \"\"}}, \"type\": \"scatterternary\"}], \"surface\": [{\"colorbar\": {\"outlinewidth\": 0, \"ticks\": \"\"}, \"colorscale\": [[0.0, \"#0d0887\"], [0.1111111111111111, \"#46039f\"], [0.2222222222222222, \"#7201a8\"], [0.3333333333333333, \"#9c179e\"], [0.4444444444444444, \"#bd3786\"], [0.5555555555555556, \"#d8576b\"], [0.6666666666666666, \"#ed7953\"], [0.7777777777777778, \"#fb9f3a\"], [0.8888888888888888, \"#fdca26\"], [1.0, \"#f0f921\"]], \"type\": \"surface\"}], \"table\": [{\"cells\": {\"fill\": {\"color\": \"#EBF0F8\"}, \"line\": {\"color\": \"white\"}}, \"header\": {\"fill\": {\"color\": \"#C8D4E3\"}, \"line\": {\"color\": \"white\"}}, \"type\": \"table\"}]}, \"layout\": {\"annotationdefaults\": {\"arrowcolor\": \"#2a3f5f\", \"arrowhead\": 0, \"arrowwidth\": 1}, \"autotypenumbers\": \"strict\", \"coloraxis\": {\"colorbar\": {\"outlinewidth\": 0, \"ticks\": \"\"}}, \"colorscale\": {\"diverging\": [[0, \"#8e0152\"], [0.1, \"#c51b7d\"], [0.2, \"#de77ae\"], [0.3, \"#f1b6da\"], [0.4, \"#fde0ef\"], [0.5, \"#f7f7f7\"], [0.6, \"#e6f5d0\"], [0.7, \"#b8e186\"], [0.8, \"#7fbc41\"], [0.9, \"#4d9221\"], [1, \"#276419\"]], \"sequential\": [[0.0, \"#0d0887\"], [0.1111111111111111, \"#46039f\"], [0.2222222222222222, \"#7201a8\"], [0.3333333333333333, \"#9c179e\"], [0.4444444444444444, \"#bd3786\"], [0.5555555555555556, \"#d8576b\"], [0.6666666666666666, \"#ed7953\"], [0.7777777777777778, \"#fb9f3a\"], [0.8888888888888888, \"#fdca26\"], [1.0, \"#f0f921\"]], \"sequentialminus\": [[0.0, \"#0d0887\"], [0.1111111111111111, \"#46039f\"], [0.2222222222222222, \"#7201a8\"], [0.3333333333333333, \"#9c179e\"], [0.4444444444444444, \"#bd3786\"], [0.5555555555555556, \"#d8576b\"], [0.6666666666666666, \"#ed7953\"], [0.7777777777777778, \"#fb9f3a\"], [0.8888888888888888, \"#fdca26\"], [1.0, \"#f0f921\"]]}, \"colorway\": [\"#636efa\", \"#EF553B\", \"#00cc96\", \"#ab63fa\", \"#FFA15A\", \"#19d3f3\", \"#FF6692\", \"#B6E880\", \"#FF97FF\", \"#FECB52\"], \"font\": {\"color\": \"#2a3f5f\"}, \"geo\": {\"bgcolor\": \"white\", \"lakecolor\": \"white\", \"landcolor\": \"#E5ECF6\", \"showlakes\": true, \"showland\": true, \"subunitcolor\": \"white\"}, \"hoverlabel\": {\"align\": \"left\"}, \"hovermode\": \"closest\", \"mapbox\": {\"style\": \"light\"}, \"paper_bgcolor\": \"white\", \"plot_bgcolor\": \"#E5ECF6\", \"polar\": {\"angularaxis\": {\"gridcolor\": \"white\", \"linecolor\": \"white\", \"ticks\": \"\"}, \"bgcolor\": \"#E5ECF6\", \"radialaxis\": {\"gridcolor\": \"white\", \"linecolor\": \"white\", \"ticks\": \"\"}}, \"scene\": {\"xaxis\": {\"backgroundcolor\": \"#E5ECF6\", \"gridcolor\": \"white\", \"gridwidth\": 2, \"linecolor\": \"white\", \"showbackground\": true, \"ticks\": \"\", \"zerolinecolor\": \"white\"}, \"yaxis\": {\"backgroundcolor\": \"#E5ECF6\", \"gridcolor\": \"white\", \"gridwidth\": 2, \"linecolor\": \"white\", \"showbackground\": true, \"ticks\": \"\", \"zerolinecolor\": \"white\"}, \"zaxis\": {\"backgroundcolor\": \"#E5ECF6\", \"gridcolor\": \"white\", \"gridwidth\": 2, \"linecolor\": \"white\", \"showbackground\": true, \"ticks\": \"\", \"zerolinecolor\": \"white\"}}, \"shapedefaults\": {\"line\": {\"color\": \"#2a3f5f\"}}, \"ternary\": {\"aaxis\": {\"gridcolor\": \"white\", \"linecolor\": \"white\", \"ticks\": \"\"}, \"baxis\": {\"gridcolor\": \"white\", \"linecolor\": \"white\", \"ticks\": \"\"}, \"bgcolor\": \"#E5ECF6\", \"caxis\": {\"gridcolor\": \"white\", \"linecolor\": \"white\", \"ticks\": \"\"}}, \"title\": {\"x\": 0.05}, \"xaxis\": {\"automargin\": true, \"gridcolor\": \"white\", \"linecolor\": \"white\", \"ticks\": \"\", \"title\": {\"standoff\": 15}, \"zerolinecolor\": \"white\", \"zerolinewidth\": 2}, \"yaxis\": {\"automargin\": true, \"gridcolor\": \"white\", \"linecolor\": \"white\", \"ticks\": \"\", \"title\": {\"standoff\": 15}, \"zerolinecolor\": \"white\", \"zerolinewidth\": 2}}}},                        {\"responsive\": true}                    ).then(function(){\n",
       "                            \n",
       "var gd = document.getElementById('2cdbbc06-820a-4c12-8666-9a0a875ae939');\n",
       "var x = new MutationObserver(function (mutations, observer) {{\n",
       "        var display = window.getComputedStyle(gd).display;\n",
       "        if (!display || display === 'none') {{\n",
       "            console.log([gd, 'removed!']);\n",
       "            Plotly.purge(gd);\n",
       "            observer.disconnect();\n",
       "        }}\n",
       "}});\n",
       "\n",
       "// Listen for the removal of the full notebook cells\n",
       "var notebookContainer = gd.closest('#notebook-container');\n",
       "if (notebookContainer) {{\n",
       "    x.observe(notebookContainer, {childList: true});\n",
       "}}\n",
       "\n",
       "// Listen for the clearing of the current output cell\n",
       "var outputEl = gd.closest('.output');\n",
       "if (outputEl) {{\n",
       "    x.observe(outputEl, {childList: true});\n",
       "}}\n",
       "\n",
       "                        })                };                });            </script>        </div>"
      ]
     },
     "metadata": {},
     "output_type": "display_data"
    }
   ],
   "source": [
    "import plotly.graph_objects as go\n",
    "\n",
    "fig = go.Figure(go.Scatter(x=np.array(all_m).ravel(), y=np.array(all_b).ravel(), name='High 2014',\n",
    "                         line=dict(color='#fff', width=4)))\n",
    "\n",
    "fig.add_trace(go.Contour(z=z_arr,x=m_arr,y=b_arr))\n",
    "fig.show()"
   ]
  },
  {
   "cell_type": "code",
   "execution_count": 67,
   "id": "9b45a7c2",
   "metadata": {},
   "outputs": [
    {
     "data": {
      "image/png": "[encoded data removed]",
      "text/plain": [
       "<Figure size 432x288 with 2 Axes>"
      ]
     },
     "metadata": {
      "needs_background": "light"
     },
     "output_type": "display_data"
    },
    {
     "data": {
      "text/plain": [
       "<Figure size 1296x288 with 0 Axes>"
      ]
     },
     "metadata": {},
     "output_type": "display_data"
    }
   ],
   "source": [
    "import numpy as np\n",
    "import matplotlib.pyplot as plt\n",
    "\n",
    "\n",
    "fig,ax=plt.subplots(1,1)\n",
    "plt.figure(figsize=(18,4))\n",
    "cp = ax.contourf(m_arr, b_arr, z_arr)\n",
    "ax.plot(np.array(all_m).ravel(),np.array(all_b).ravel(),color='white')\n",
    "fig.colorbar(cp) # Add a colorbar to a plot\n",
    "ax.set_title('Filled Contours Plot')\n",
    "ax.set_xlabel('m')\n",
    "ax.set_ylabel('b')\n",
    "plt.show()"
   ]
  },
  {
   "cell_type": "code",
   "execution_count": 79,
   "id": "9ec34eaa",
   "metadata": {},
   "outputs": [
    {
     "data": {
      "application/javascript": [
       "/* Put everything inside the global mpl namespace */\n",
       "/* global mpl */\n",
       "window.mpl = {};\n",
       "\n",
       "mpl.get_websocket_type = function () {\n",
       "    if (typeof WebSocket !== 'undefined') {\n",
       "        return WebSocket;\n",
       "    } else if (typeof MozWebSocket !== 'undefined') {\n",
       "        return MozWebSocket;\n",
       "    } else {\n",
       "        alert(\n",
       "            'Your browser does not have WebSocket support. ' +\n",
       "                'Please try Chrome, Safari or Firefox ≥ 6. ' +\n",
       "                'Firefox 4 and 5 are also supported but you ' +\n",
       "                'have to enable WebSockets in about:config.'\n",
       "        );\n",
       "    }\n",
       "};\n",
       "\n",
       "mpl.figure = function (figure_id, websocket, ondownload, parent_element) {\n",
       "    this.id = figure_id;\n",
       "\n",
       "    this.ws = websocket;\n",
       "\n",
       "    this.supports_binary = this.ws.binaryType !== undefined;\n",
       "\n",
       "    if (!this.supports_binary) {\n",
       "        var warnings = document.getElementById('mpl-warnings');\n",
       "        if (warnings) {\n",
       "            warnings.style.display = 'block';\n",
       "            warnings.textContent =\n",
       "                'This browser does not support binary websocket messages. ' +\n",
       "                'Performance may be slow.';\n",
       "        }\n",
       "    }\n",
       "\n",
       "    this.imageObj = new Image();\n",
       "\n",
       "    this.context = undefined;\n",
       "    this.message = undefined;\n",
       "    this.canvas = undefined;\n",
       "    this.rubberband_canvas = undefined;\n",
       "    this.rubberband_context = undefined;\n",
       "    this.format_dropdown = undefined;\n",
       "\n",
       "    this.image_mode = 'full';\n",
       "\n",
       "    this.root = document.createElement('div');\n",
       "    this.root.setAttribute('style', 'display: inline-block');\n",
       "    this._root_extra_style(this.root);\n",
       "\n",
       "    parent_element.appendChild(this.root);\n",
       "\n",
       "    this._init_header(this);\n",
       "    this._init_canvas(this);\n",
       "    this._init_toolbar(this);\n",
       "\n",
       "    var fig = this;\n",
       "\n",
       "    this.waiting = false;\n",
       "\n",
       "    this.ws.onopen = function () {\n",
       "        fig.send_message('supports_binary', { value: fig.supports_binary });\n",
       "        fig.send_message('send_image_mode', {});\n",
       "        if (fig.ratio !== 1) {\n",
       "            fig.send_message('set_dpi_ratio', { dpi_ratio: fig.ratio });\n",
       "        }\n",
       "        fig.send_message('refresh', {});\n",
       "    };\n",
       "\n",
       "    this.imageObj.onload = function () {\n",
       "        if (fig.image_mode === 'full') {\n",
       "            // Full images could contain transparency (where diff images\n",
       "            // almost always do), so we need to clear the canvas so that\n",
       "            // there is no ghosting.\n",
       "            fig.context.clearRect(0, 0, fig.canvas.width, fig.canvas.height);\n",
       "        }\n",
       "        fig.context.drawImage(fig.imageObj, 0, 0);\n",
       "    };\n",
       "\n",
       "    this.imageObj.onunload = function () {\n",
       "        fig.ws.close();\n",
       "    };\n",
       "\n",
       "    this.ws.onmessage = this._make_on_message_function(this);\n",
       "\n",
       "    this.ondownload = ondownload;\n",
       "};\n",
       "\n",
       "mpl.figure.prototype._init_header = function () {\n",
       "    var titlebar = document.createElement('div');\n",
       "    titlebar.classList =\n",
       "        'ui-dialog-titlebar ui-widget-header ui-corner-all ui-helper-clearfix';\n",
       "    var titletext = document.createElement('div');\n",
       "    titletext.classList = 'ui-dialog-title';\n",
       "    titletext.setAttribute(\n",
       "        'style',\n",
       "        'width: 100%; text-align: center; padding: 3px;'\n",
       "    );\n",
       "    titlebar.appendChild(titletext);\n",
       "    this.root.appendChild(titlebar);\n",
       "    this.header = titletext;\n",
       "};\n",
       "\n",
       "mpl.figure.prototype._canvas_extra_style = function (_canvas_div) {};\n",
       "\n",
       "mpl.figure.prototype._root_extra_style = function (_canvas_div) {};\n",
       "\n",
       "mpl.figure.prototype._init_canvas = function () {\n",
       "    var fig = this;\n",
       "\n",
       "    var canvas_div = (this.canvas_div = document.createElement('div'));\n",
       "    canvas_div.setAttribute(\n",
       "        'style',\n",
       "        'border: 1px solid #ddd;' +\n",
       "            'box-sizing: content-box;' +\n",
       "            'clear: both;' +\n",
       "            'min-height: 1px;' +\n",
       "            'min-width: 1px;' +\n",
       "            'outline: 0;' +\n",
       "            'overflow: hidden;' +\n",
       "            'position: relative;' +\n",
       "            'resize: both;'\n",
       "    );\n",
       "\n",
       "    function on_keyboard_event_closure(name) {\n",
       "        return function (event) {\n",
       "            return fig.key_event(event, name);\n",
       "        };\n",
       "    }\n",
       "\n",
       "    canvas_div.addEventListener(\n",
       "        'keydown',\n",
       "        on_keyboard_event_closure('key_press')\n",
       "    );\n",
       "    canvas_div.addEventListener(\n",
       "        'keyup',\n",
       "        on_keyboard_event_closure('key_release')\n",
       "    );\n",
       "\n",
       "    this._canvas_extra_style(canvas_div);\n",
       "    this.root.appendChild(canvas_div);\n",
       "\n",
       "    var canvas = (this.canvas = document.createElement('canvas'));\n",
       "    canvas.classList.add('mpl-canvas');\n",
       "    canvas.setAttribute('style', 'box-sizing: content-box;');\n",
       "\n",
       "    this.context = canvas.getContext('2d');\n",
       "\n",
       "    var backingStore =\n",
       "        this.context.backingStorePixelRatio ||\n",
       "        this.context.webkitBackingStorePixelRatio ||\n",
       "        this.context.mozBackingStorePixelRatio ||\n",
       "        this.context.msBackingStorePixelRatio ||\n",
       "        this.context.oBackingStorePixelRatio ||\n",
       "        this.context.backingStorePixelRatio ||\n",
       "        1;\n",
       "\n",
       "    this.ratio = (window.devicePixelRatio || 1) / backingStore;\n",
       "\n",
       "    var rubberband_canvas = (this.rubberband_canvas = document.createElement(\n",
       "        'canvas'\n",
       "    ));\n",
       "    rubberband_canvas.setAttribute(\n",
       "        'style',\n",
       "        'box-sizing: content-box; position: absolute; left: 0; top: 0; z-index: 1;'\n",
       "    );\n",
       "\n",
       "    // Apply a ponyfill if ResizeObserver is not implemented by browser.\n",
       "    if (this.ResizeObserver === undefined) {\n",
       "        if (window.ResizeObserver !== undefined) {\n",
       "            this.ResizeObserver = window.ResizeObserver;\n",
       "        } else {\n",
       "            var obs = _JSXTOOLS_RESIZE_OBSERVER({});\n",
       "            this.ResizeObserver = obs.ResizeObserver;\n",
       "        }\n",
       "    }\n",
       "\n",
       "    this.resizeObserverInstance = new this.ResizeObserver(function (entries) {\n",
       "        var nentries = entries.length;\n",
       "        for (var i = 0; i < nentries; i++) {\n",
       "            var entry = entries[i];\n",
       "            var width, height;\n",
       "            if (entry.contentBoxSize) {\n",
       "                if (entry.contentBoxSize instanceof Array) {\n",
       "                    // Chrome 84 implements new version of spec.\n",
       "                    width = entry.contentBoxSize[0].inlineSize;\n",
       "                    height = entry.contentBoxSize[0].blockSize;\n",
       "                } else {\n",
       "                    // Firefox implements old version of spec.\n",
       "                    width = entry.contentBoxSize.inlineSize;\n",
       "                    height = entry.contentBoxSize.blockSize;\n",
       "                }\n",
       "            } else {\n",
       "                // Chrome <84 implements even older version of spec.\n",
       "                width = entry.contentRect.width;\n",
       "                height = entry.contentRect.height;\n",
       "            }\n",
       "\n",
       "            // Keep the size of the canvas and rubber band canvas in sync with\n",
       "            // the canvas container.\n",
       "            if (entry.devicePixelContentBoxSize) {\n",
       "                // Chrome 84 implements new version of spec.\n",
       "                canvas.setAttribute(\n",
       "                    'width',\n",
       "                    entry.devicePixelContentBoxSize[0].inlineSize\n",
       "                );\n",
       "                canvas.setAttribute(\n",
       "                    'height',\n",
       "                    entry.devicePixelContentBoxSize[0].blockSize\n",
       "                );\n",
       "            } else {\n",
       "                canvas.setAttribute('width', width * fig.ratio);\n",
       "                canvas.setAttribute('height', height * fig.ratio);\n",
       "            }\n",
       "            canvas.setAttribute(\n",
       "                'style',\n",
       "                'width: ' + width + 'px; height: ' + height + 'px;'\n",
       "            );\n",
       "\n",
       "            rubberband_canvas.setAttribute('width', width);\n",
       "            rubberband_canvas.setAttribute('height', height);\n",
       "\n",
       "            // And update the size in Python. We ignore the initial 0/0 size\n",
       "            // that occurs as the element is placed into the DOM, which should\n",
       "            // otherwise not happen due to the minimum size styling.\n",
       "            if (fig.ws.readyState == 1 && width != 0 && height != 0) {\n",
       "                fig.request_resize(width, height);\n",
       "            }\n",
       "        }\n",
       "    });\n",
       "    this.resizeObserverInstance.observe(canvas_div);\n",
       "\n",
       "    function on_mouse_event_closure(name) {\n",
       "        return function (event) {\n",
       "            return fig.mouse_event(event, name);\n",
       "        };\n",
       "    }\n",
       "\n",
       "    rubberband_canvas.addEventListener(\n",
       "        'mousedown',\n",
       "        on_mouse_event_closure('button_press')\n",
       "    );\n",
       "    rubberband_canvas.addEventListener(\n",
       "        'mouseup',\n",
       "        on_mouse_event_closure('button_release')\n",
       "    );\n",
       "    // Throttle sequential mouse events to 1 every 20ms.\n",
       "    rubberband_canvas.addEventListener(\n",
       "        'mousemove',\n",
       "        on_mouse_event_closure('motion_notify')\n",
       "    );\n",
       "\n",
       "    rubberband_canvas.addEventListener(\n",
       "        'mouseenter',\n",
       "        on_mouse_event_closure('figure_enter')\n",
       "    );\n",
       "    rubberband_canvas.addEventListener(\n",
       "        'mouseleave',\n",
       "        on_mouse_event_closure('figure_leave')\n",
       "    );\n",
       "\n",
       "    canvas_div.addEventListener('wheel', function (event) {\n",
       "        if (event.deltaY < 0) {\n",
       "            event.step = 1;\n",
       "        } else {\n",
       "            event.step = -1;\n",
       "        }\n",
       "        on_mouse_event_closure('scroll')(event);\n",
       "    });\n",
       "\n",
       "    canvas_div.appendChild(canvas);\n",
       "    canvas_div.appendChild(rubberband_canvas);\n",
       "\n",
       "    this.rubberband_context = rubberband_canvas.getContext('2d');\n",
       "    this.rubberband_context.strokeStyle = '#000000';\n",
       "\n",
       "    this._resize_canvas = function (width, height, forward) {\n",
       "        if (forward) {\n",
       "            canvas_div.style.width = width + 'px';\n",
       "            canvas_div.style.height = height + 'px';\n",
       "        }\n",
       "    };\n",
       "\n",
       "    // Disable right mouse context menu.\n",
       "    this.rubberband_canvas.addEventListener('contextmenu', function (_e) {\n",
       "        event.preventDefault();\n",
       "        return false;\n",
       "    });\n",
       "\n",
       "    function set_focus() {\n",
       "        canvas.focus();\n",
       "        canvas_div.focus();\n",
       "    }\n",
       "\n",
       "    window.setTimeout(set_focus, 100);\n",
       "};\n",
       "\n",
       "mpl.figure.prototype._init_toolbar = function () {\n",
       "    var fig = this;\n",
       "\n",
       "    var toolbar = document.createElement('div');\n",
       "    toolbar.classList = 'mpl-toolbar';\n",
       "    this.root.appendChild(toolbar);\n",
       "\n",
       "    function on_click_closure(name) {\n",
       "        return function (_event) {\n",
       "            return fig.toolbar_button_onclick(name);\n",
       "        };\n",
       "    }\n",
       "\n",
       "    function on_mouseover_closure(tooltip) {\n",
       "        return function (event) {\n",
       "            if (!event.currentTarget.disabled) {\n",
       "                return fig.toolbar_button_onmouseover(tooltip);\n",
       "            }\n",
       "        };\n",
       "    }\n",
       "\n",
       "    fig.buttons = {};\n",
       "    var buttonGroup = document.createElement('div');\n",
       "    buttonGroup.classList = 'mpl-button-group';\n",
       "    for (var toolbar_ind in mpl.toolbar_items) {\n",
       "        var name = mpl.toolbar_items[toolbar_ind][0];\n",
       "        var tooltip = mpl.toolbar_items[toolbar_ind][1];\n",
       "        var image = mpl.toolbar_items[toolbar_ind][2];\n",
       "        var method_name = mpl.toolbar_items[toolbar_ind][3];\n",
       "\n",
       "        if (!name) {\n",
       "            /* Instead of a spacer, we start a new button group. */\n",
       "            if (buttonGroup.hasChildNodes()) {\n",
       "                toolbar.appendChild(buttonGroup);\n",
       "            }\n",
       "            buttonGroup = document.createElement('div');\n",
       "            buttonGroup.classList = 'mpl-button-group';\n",
       "            continue;\n",
       "        }\n",
       "\n",
       "        var button = (fig.buttons[name] = document.createElement('button'));\n",
       "        button.classList = 'mpl-widget';\n",
       "        button.setAttribute('role', 'button');\n",
       "        button.setAttribute('aria-disabled', 'false');\n",
       "        button.addEventListener('click', on_click_closure(method_name));\n",
       "        button.addEventListener('mouseover', on_mouseover_closure(tooltip));\n",
       "\n",
       "        var icon_img = document.createElement('img');\n",
       "        icon_img.src = '_images/' + image + '.png';\n",
       "        icon_img.srcset = '_images/' + image + '_large.png 2x';\n",
       "        icon_img.alt = tooltip;\n",
       "        button.appendChild(icon_img);\n",
       "\n",
       "        buttonGroup.appendChild(button);\n",
       "    }\n",
       "\n",
       "    if (buttonGroup.hasChildNodes()) {\n",
       "        toolbar.appendChild(buttonGroup);\n",
       "    }\n",
       "\n",
       "    var fmt_picker = document.createElement('select');\n",
       "    fmt_picker.classList = 'mpl-widget';\n",
       "    toolbar.appendChild(fmt_picker);\n",
       "    this.format_dropdown = fmt_picker;\n",
       "\n",
       "    for (var ind in mpl.extensions) {\n",
       "        var fmt = mpl.extensions[ind];\n",
       "        var option = document.createElement('option');\n",
       "        option.selected = fmt === mpl.default_extension;\n",
       "        option.innerHTML = fmt;\n",
       "        fmt_picker.appendChild(option);\n",
       "    }\n",
       "\n",
       "    var status_bar = document.createElement('span');\n",
       "    status_bar.classList = 'mpl-message';\n",
       "    toolbar.appendChild(status_bar);\n",
       "    this.message = status_bar;\n",
       "};\n",
       "\n",
       "mpl.figure.prototype.request_resize = function (x_pixels, y_pixels) {\n",
       "    // Request matplotlib to resize the figure. Matplotlib will then trigger a resize in the client,\n",
       "    // which will in turn request a refresh of the image.\n",
       "    this.send_message('resize', { width: x_pixels, height: y_pixels });\n",
       "};\n",
       "\n",
       "mpl.figure.prototype.send_message = function (type, properties) {\n",
       "    properties['type'] = type;\n",
       "    properties['figure_id'] = this.id;\n",
       "    this.ws.send(JSON.stringify(properties));\n",
       "};\n",
       "\n",
       "mpl.figure.prototype.send_draw_message = function () {\n",
       "    if (!this.waiting) {\n",
       "        this.waiting = true;\n",
       "        this.ws.send(JSON.stringify({ type: 'draw', figure_id: this.id }));\n",
       "    }\n",
       "};\n",
       "\n",
       "mpl.figure.prototype.handle_save = function (fig, _msg) {\n",
       "    var format_dropdown = fig.format_dropdown;\n",
       "    var format = format_dropdown.options[format_dropdown.selectedIndex].value;\n",
       "    fig.ondownload(fig, format);\n",
       "};\n",
       "\n",
       "mpl.figure.prototype.handle_resize = function (fig, msg) {\n",
       "    var size = msg['size'];\n",
       "    if (size[0] !== fig.canvas.width || size[1] !== fig.canvas.height) {\n",
       "        fig._resize_canvas(size[0], size[1], msg['forward']);\n",
       "        fig.send_message('refresh', {});\n",
       "    }\n",
       "};\n",
       "\n",
       "mpl.figure.prototype.handle_rubberband = function (fig, msg) {\n",
       "    var x0 = msg['x0'] / fig.ratio;\n",
       "    var y0 = (fig.canvas.height - msg['y0']) / fig.ratio;\n",
       "    var x1 = msg['x1'] / fig.ratio;\n",
       "    var y1 = (fig.canvas.height - msg['y1']) / fig.ratio;\n",
       "    x0 = Math.floor(x0) + 0.5;\n",
       "    y0 = Math.floor(y0) + 0.5;\n",
       "    x1 = Math.floor(x1) + 0.5;\n",
       "    y1 = Math.floor(y1) + 0.5;\n",
       "    var min_x = Math.min(x0, x1);\n",
       "    var min_y = Math.min(y0, y1);\n",
       "    var width = Math.abs(x1 - x0);\n",
       "    var height = Math.abs(y1 - y0);\n",
       "\n",
       "    fig.rubberband_context.clearRect(\n",
       "        0,\n",
       "        0,\n",
       "        fig.canvas.width / fig.ratio,\n",
       "        fig.canvas.height / fig.ratio\n",
       "    );\n",
       "\n",
       "    fig.rubberband_context.strokeRect(min_x, min_y, width, height);\n",
       "};\n",
       "\n",
       "mpl.figure.prototype.handle_figure_label = function (fig, msg) {\n",
       "    // Updates the figure title.\n",
       "    fig.header.textContent = msg['label'];\n",
       "};\n",
       "\n",
       "mpl.figure.prototype.handle_cursor = function (fig, msg) {\n",
       "    var cursor = msg['cursor'];\n",
       "    switch (cursor) {\n",
       "        case 0:\n",
       "            cursor = 'pointer';\n",
       "            break;\n",
       "        case 1:\n",
       "            cursor = 'default';\n",
       "            break;\n",
       "        case 2:\n",
       "            cursor = 'crosshair';\n",
       "            break;\n",
       "        case 3:\n",
       "            cursor = 'move';\n",
       "            break;\n",
       "    }\n",
       "    fig.rubberband_canvas.style.cursor = cursor;\n",
       "};\n",
       "\n",
       "mpl.figure.prototype.handle_message = function (fig, msg) {\n",
       "    fig.message.textContent = msg['message'];\n",
       "};\n",
       "\n",
       "mpl.figure.prototype.handle_draw = function (fig, _msg) {\n",
       "    // Request the server to send over a new figure.\n",
       "    fig.send_draw_message();\n",
       "};\n",
       "\n",
       "mpl.figure.prototype.handle_image_mode = function (fig, msg) {\n",
       "    fig.image_mode = msg['mode'];\n",
       "};\n",
       "\n",
       "mpl.figure.prototype.handle_history_buttons = function (fig, msg) {\n",
       "    for (var key in msg) {\n",
       "        if (!(key in fig.buttons)) {\n",
       "            continue;\n",
       "        }\n",
       "        fig.buttons[key].disabled = !msg[key];\n",
       "        fig.buttons[key].setAttribute('aria-disabled', !msg[key]);\n",
       "    }\n",
       "};\n",
       "\n",
       "mpl.figure.prototype.handle_navigate_mode = function (fig, msg) {\n",
       "    if (msg['mode'] === 'PAN') {\n",
       "        fig.buttons['Pan'].classList.add('active');\n",
       "        fig.buttons['Zoom'].classList.remove('active');\n",
       "    } else if (msg['mode'] === 'ZOOM') {\n",
       "        fig.buttons['Pan'].classList.remove('active');\n",
       "        fig.buttons['Zoom'].classList.add('active');\n",
       "    } else {\n",
       "        fig.buttons['Pan'].classList.remove('active');\n",
       "        fig.buttons['Zoom'].classList.remove('active');\n",
       "    }\n",
       "};\n",
       "\n",
       "mpl.figure.prototype.updated_canvas_event = function () {\n",
       "    // Called whenever the canvas gets updated.\n",
       "    this.send_message('ack', {});\n",
       "};\n",
       "\n",
       "// A function to construct a web socket function for onmessage handling.\n",
       "// Called in the figure constructor.\n",
       "mpl.figure.prototype._make_on_message_function = function (fig) {\n",
       "    return function socket_on_message(evt) {\n",
       "        if (evt.data instanceof Blob) {\n",
       "            /* FIXME: We get \"Resource interpreted as Image but\n",
       "             * transferred with MIME type text/plain:\" errors on\n",
       "             * Chrome.  But how to set the MIME type?  It doesn't seem\n",
       "             * to be part of the websocket stream */\n",
       "            evt.data.type = 'image/png';\n",
       "\n",
       "            /* Free the memory for the previous frames */\n",
       "            if (fig.imageObj.src) {\n",
       "                (window.URL || window.webkitURL).revokeObjectURL(\n",
       "                    fig.imageObj.src\n",
       "                );\n",
       "            }\n",
       "\n",
       "            fig.imageObj.src = (window.URL || window.webkitURL).createObjectURL(\n",
       "                evt.data\n",
       "            );\n",
       "            fig.updated_canvas_event();\n",
       "            fig.waiting = false;\n",
       "            return;\n",
       "        } else if (\n",
       "            typeof evt.data === 'string' &&\n",
       "            evt.data.slice(0, 21) === 'data:image/png;base64'\n",
       "        ) {\n",
       "            fig.imageObj.src = evt.data;\n",
       "            fig.updated_canvas_event();\n",
       "            fig.waiting = false;\n",
       "            return;\n",
       "        }\n",
       "\n",
       "        var msg = JSON.parse(evt.data);\n",
       "        var msg_type = msg['type'];\n",
       "\n",
       "        // Call the  \"handle_{type}\" callback, which takes\n",
       "        // the figure and JSON message as its only arguments.\n",
       "        try {\n",
       "            var callback = fig['handle_' + msg_type];\n",
       "        } catch (e) {\n",
       "            console.log(\n",
       "                \"No handler for the '\" + msg_type + \"' message type: \",\n",
       "                msg\n",
       "            );\n",
       "            return;\n",
       "        }\n",
       "\n",
       "        if (callback) {\n",
       "            try {\n",
       "                // console.log(\"Handling '\" + msg_type + \"' message: \", msg);\n",
       "                callback(fig, msg);\n",
       "            } catch (e) {\n",
       "                console.log(\n",
       "                    \"Exception inside the 'handler_\" + msg_type + \"' callback:\",\n",
       "                    e,\n",
       "                    e.stack,\n",
       "                    msg\n",
       "                );\n",
       "            }\n",
       "        }\n",
       "    };\n",
       "};\n",
       "\n",
       "// from http://stackoverflow.com/questions/1114465/getting-mouse-location-in-canvas\n",
       "mpl.findpos = function (e) {\n",
       "    //this section is from http://www.quirksmode.org/js/events_properties.html\n",
       "    var targ;\n",
       "    if (!e) {\n",
       "        e = window.event;\n",
       "    }\n",
       "    if (e.target) {\n",
       "        targ = e.target;\n",
       "    } else if (e.srcElement) {\n",
       "        targ = e.srcElement;\n",
       "    }\n",
       "    if (targ.nodeType === 3) {\n",
       "        // defeat Safari bug\n",
       "        targ = targ.parentNode;\n",
       "    }\n",
       "\n",
       "    // pageX,Y are the mouse positions relative to the document\n",
       "    var boundingRect = targ.getBoundingClientRect();\n",
       "    var x = e.pageX - (boundingRect.left + document.body.scrollLeft);\n",
       "    var y = e.pageY - (boundingRect.top + document.body.scrollTop);\n",
       "\n",
       "    return { x: x, y: y };\n",
       "};\n",
       "\n",
       "/*\n",
       " * return a copy of an object with only non-object keys\n",
       " * we need this to avoid circular references\n",
       " * http://stackoverflow.com/a/24161582/3208463\n",
       " */\n",
       "function simpleKeys(original) {\n",
       "    return Object.keys(original).reduce(function (obj, key) {\n",
       "        if (typeof original[key] !== 'object') {\n",
       "            obj[key] = original[key];\n",
       "        }\n",
       "        return obj;\n",
       "    }, {});\n",
       "}\n",
       "\n",
       "mpl.figure.prototype.mouse_event = function (event, name) {\n",
       "    var canvas_pos = mpl.findpos(event);\n",
       "\n",
       "    if (name === 'button_press') {\n",
       "        this.canvas.focus();\n",
       "        this.canvas_div.focus();\n",
       "    }\n",
       "\n",
       "    var x = canvas_pos.x * this.ratio;\n",
       "    var y = canvas_pos.y * this.ratio;\n",
       "\n",
       "    this.send_message(name, {\n",
       "        x: x,\n",
       "        y: y,\n",
       "        button: event.button,\n",
       "        step: event.step,\n",
       "        guiEvent: simpleKeys(event),\n",
       "    });\n",
       "\n",
       "    /* This prevents the web browser from automatically changing to\n",
       "     * the text insertion cursor when the button is pressed.  We want\n",
       "     * to control all of the cursor setting manually through the\n",
       "     * 'cursor' event from matplotlib */\n",
       "    event.preventDefault();\n",
       "    return false;\n",
       "};\n",
       "\n",
       "mpl.figure.prototype._key_event_extra = function (_event, _name) {\n",
       "    // Handle any extra behaviour associated with a key event\n",
       "};\n",
       "\n",
       "mpl.figure.prototype.key_event = function (event, name) {\n",
       "    // Prevent repeat events\n",
       "    if (name === 'key_press') {\n",
       "        if (event.which === this._key) {\n",
       "            return;\n",
       "        } else {\n",
       "            this._key = event.which;\n",
       "        }\n",
       "    }\n",
       "    if (name === 'key_release') {\n",
       "        this._key = null;\n",
       "    }\n",
       "\n",
       "    var value = '';\n",
       "    if (event.ctrlKey && event.which !== 17) {\n",
       "        value += 'ctrl+';\n",
       "    }\n",
       "    if (event.altKey && event.which !== 18) {\n",
       "        value += 'alt+';\n",
       "    }\n",
       "    if (event.shiftKey && event.which !== 16) {\n",
       "        value += 'shift+';\n",
       "    }\n",
       "\n",
       "    value += 'k';\n",
       "    value += event.which.toString();\n",
       "\n",
       "    this._key_event_extra(event, name);\n",
       "\n",
       "    this.send_message(name, { key: value, guiEvent: simpleKeys(event) });\n",
       "    return false;\n",
       "};\n",
       "\n",
       "mpl.figure.prototype.toolbar_button_onclick = function (name) {\n",
       "    if (name === 'download') {\n",
       "        this.handle_save(this, null);\n",
       "    } else {\n",
       "        this.send_message('toolbar_button', { name: name });\n",
       "    }\n",
       "};\n",
       "\n",
       "mpl.figure.prototype.toolbar_button_onmouseover = function (tooltip) {\n",
       "    this.message.textContent = tooltip;\n",
       "};\n",
       "\n",
       "///////////////// REMAINING CONTENT GENERATED BY embed_js.py /////////////////\n",
       "// prettier-ignore\n",
       "var _JSXTOOLS_RESIZE_OBSERVER=function(A){var t,i=new WeakMap,n=new WeakMap,a=new WeakMap,r=new WeakMap,o=new Set;function s(e){if(!(this instanceof s))throw new TypeError(\"Constructor requires 'new' operator\");i.set(this,e)}function h(){throw new TypeError(\"Function is not a constructor\")}function c(e,t,i,n){e=0 in arguments?Number(arguments[0]):0,t=1 in arguments?Number(arguments[1]):0,i=2 in arguments?Number(arguments[2]):0,n=3 in arguments?Number(arguments[3]):0,this.right=(this.x=this.left=e)+(this.width=i),this.bottom=(this.y=this.top=t)+(this.height=n),Object.freeze(this)}function d(){t=requestAnimationFrame(d);var s=new WeakMap,p=new Set;o.forEach((function(t){r.get(t).forEach((function(i){var r=t instanceof window.SVGElement,o=a.get(t),d=r?0:parseFloat(o.paddingTop),f=r?0:parseFloat(o.paddingRight),l=r?0:parseFloat(o.paddingBottom),u=r?0:parseFloat(o.paddingLeft),g=r?0:parseFloat(o.borderTopWidth),m=r?0:parseFloat(o.borderRightWidth),w=r?0:parseFloat(o.borderBottomWidth),b=u+f,F=d+l,v=(r?0:parseFloat(o.borderLeftWidth))+m,W=g+w,y=r?0:t.offsetHeight-W-t.clientHeight,E=r?0:t.offsetWidth-v-t.clientWidth,R=b+v,z=F+W,M=r?t.width:parseFloat(o.width)-R-E,O=r?t.height:parseFloat(o.height)-z-y;if(n.has(t)){var k=n.get(t);if(k[0]===M&&k[1]===O)return}n.set(t,[M,O]);var S=Object.create(h.prototype);S.target=t,S.contentRect=new c(u,d,M,O),s.has(i)||(s.set(i,[]),p.add(i)),s.get(i).push(S)}))})),p.forEach((function(e){i.get(e).call(e,s.get(e),e)}))}return s.prototype.observe=function(i){if(i instanceof window.Element){r.has(i)||(r.set(i,new Set),o.add(i),a.set(i,window.getComputedStyle(i)));var n=r.get(i);n.has(this)||n.add(this),cancelAnimationFrame(t),t=requestAnimationFrame(d)}},s.prototype.unobserve=function(i){if(i instanceof window.Element&&r.has(i)){var n=r.get(i);n.has(this)&&(n.delete(this),n.size||(r.delete(i),o.delete(i))),n.size||r.delete(i),o.size||cancelAnimationFrame(t)}},A.DOMRectReadOnly=c,A.ResizeObserver=s,A.ResizeObserverEntry=h,A}; // eslint-disable-line\n",
       "mpl.toolbar_items = [[\"Home\", \"Reset original view\", \"fa fa-home icon-home\", \"home\"], [\"Back\", \"Back to previous view\", \"fa fa-arrow-left icon-arrow-left\", \"back\"], [\"Forward\", \"Forward to next view\", \"fa fa-arrow-right icon-arrow-right\", \"forward\"], [\"\", \"\", \"\", \"\"], [\"Pan\", \"Left button pans, Right button zooms\\nx/y fixes axis, CTRL fixes aspect\", \"fa fa-arrows icon-move\", \"pan\"], [\"Zoom\", \"Zoom to rectangle\\nx/y fixes axis, CTRL fixes aspect\", \"fa fa-square-o icon-check-empty\", \"zoom\"], [\"\", \"\", \"\", \"\"], [\"Download\", \"Download plot\", \"fa fa-floppy-o icon-save\", \"download\"]];\n",
       "\n",
       "mpl.extensions = [\"eps\", \"jpeg\", \"pdf\", \"png\", \"ps\", \"raw\", \"svg\", \"tif\"];\n",
       "\n",
       "mpl.default_extension = \"png\";/* global mpl */\n",
       "\n",
       "var comm_websocket_adapter = function (comm) {\n",
       "    // Create a \"websocket\"-like object which calls the given IPython comm\n",
       "    // object with the appropriate methods. Currently this is a non binary\n",
       "    // socket, so there is still some room for performance tuning.\n",
       "    var ws = {};\n",
       "\n",
       "    ws.close = function () {\n",
       "        comm.close();\n",
       "    };\n",
       "    ws.send = function (m) {\n",
       "        //console.log('sending', m);\n",
       "        comm.send(m);\n",
       "    };\n",
       "    // Register the callback with on_msg.\n",
       "    comm.on_msg(function (msg) {\n",
       "        //console.log('receiving', msg['content']['data'], msg);\n",
       "        // Pass the mpl event to the overridden (by mpl) onmessage function.\n",
       "        ws.onmessage(msg['content']['data']);\n",
       "    });\n",
       "    return ws;\n",
       "};\n",
       "\n",
       "mpl.mpl_figure_comm = function (comm, msg) {\n",
       "    // This is the function which gets called when the mpl process\n",
       "    // starts-up an IPython Comm through the \"matplotlib\" channel.\n",
       "\n",
       "    var id = msg.content.data.id;\n",
       "    // Get hold of the div created by the display call when the Comm\n",
       "    // socket was opened in Python.\n",
       "    var element = document.getElementById(id);\n",
       "    var ws_proxy = comm_websocket_adapter(comm);\n",
       "\n",
       "    function ondownload(figure, _format) {\n",
       "        window.open(figure.canvas.toDataURL());\n",
       "    }\n",
       "\n",
       "    var fig = new mpl.figure(id, ws_proxy, ondownload, element);\n",
       "\n",
       "    // Call onopen now - mpl needs it, as it is assuming we've passed it a real\n",
       "    // web socket which is closed, not our websocket->open comm proxy.\n",
       "    ws_proxy.onopen();\n",
       "\n",
       "    fig.parent_element = element;\n",
       "    fig.cell_info = mpl.find_output_cell(\"<div id='\" + id + \"'></div>\");\n",
       "    if (!fig.cell_info) {\n",
       "        console.error('Failed to find cell for figure', id, fig);\n",
       "        return;\n",
       "    }\n",
       "    fig.cell_info[0].output_area.element.on(\n",
       "        'cleared',\n",
       "        { fig: fig },\n",
       "        fig._remove_fig_handler\n",
       "    );\n",
       "};\n",
       "\n",
       "mpl.figure.prototype.handle_close = function (fig, msg) {\n",
       "    var width = fig.canvas.width / fig.ratio;\n",
       "    fig.cell_info[0].output_area.element.off(\n",
       "        'cleared',\n",
       "        fig._remove_fig_handler\n",
       "    );\n",
       "    fig.resizeObserverInstance.unobserve(fig.canvas_div);\n",
       "\n",
       "    // Update the output cell to use the data from the current canvas.\n",
       "    fig.push_to_output();\n",
       "    var dataURL = fig.canvas.toDataURL();\n",
       "    // Re-enable the keyboard manager in IPython - without this line, in FF,\n",
       "    // the notebook keyboard shortcuts fail.\n",
       "    IPython.keyboard_manager.enable();\n",
       "    fig.parent_element.innerHTML =\n",
       "        '<img src=\"' + dataURL + '\" width=\"' + width + '\">';\n",
       "    fig.close_ws(fig, msg);\n",
       "};\n",
       "\n",
       "mpl.figure.prototype.close_ws = function (fig, msg) {\n",
       "    fig.send_message('closing', msg);\n",
       "    // fig.ws.close()\n",
       "};\n",
       "\n",
       "mpl.figure.prototype.push_to_output = function (_remove_interactive) {\n",
       "    // Turn the data on the canvas into data in the output cell.\n",
       "    var width = this.canvas.width / this.ratio;\n",
       "    var dataURL = this.canvas.toDataURL();\n",
       "    this.cell_info[1]['text/html'] =\n",
       "        '<img src=\"' + dataURL + '\" width=\"' + width + '\">';\n",
       "};\n",
       "\n",
       "mpl.figure.prototype.updated_canvas_event = function () {\n",
       "    // Tell IPython that the notebook contents must change.\n",
       "    IPython.notebook.set_dirty(true);\n",
       "    this.send_message('ack', {});\n",
       "    var fig = this;\n",
       "    // Wait a second, then push the new image to the DOM so\n",
       "    // that it is saved nicely (might be nice to debounce this).\n",
       "    setTimeout(function () {\n",
       "        fig.push_to_output();\n",
       "    }, 1000);\n",
       "};\n",
       "\n",
       "mpl.figure.prototype._init_toolbar = function () {\n",
       "    var fig = this;\n",
       "\n",
       "    var toolbar = document.createElement('div');\n",
       "    toolbar.classList = 'btn-toolbar';\n",
       "    this.root.appendChild(toolbar);\n",
       "\n",
       "    function on_click_closure(name) {\n",
       "        return function (_event) {\n",
       "            return fig.toolbar_button_onclick(name);\n",
       "        };\n",
       "    }\n",
       "\n",
       "    function on_mouseover_closure(tooltip) {\n",
       "        return function (event) {\n",
       "            if (!event.currentTarget.disabled) {\n",
       "                return fig.toolbar_button_onmouseover(tooltip);\n",
       "            }\n",
       "        };\n",
       "    }\n",
       "\n",
       "    fig.buttons = {};\n",
       "    var buttonGroup = document.createElement('div');\n",
       "    buttonGroup.classList = 'btn-group';\n",
       "    var button;\n",
       "    for (var toolbar_ind in mpl.toolbar_items) {\n",
       "        var name = mpl.toolbar_items[toolbar_ind][0];\n",
       "        var tooltip = mpl.toolbar_items[toolbar_ind][1];\n",
       "        var image = mpl.toolbar_items[toolbar_ind][2];\n",
       "        var method_name = mpl.toolbar_items[toolbar_ind][3];\n",
       "\n",
       "        if (!name) {\n",
       "            /* Instead of a spacer, we start a new button group. */\n",
       "            if (buttonGroup.hasChildNodes()) {\n",
       "                toolbar.appendChild(buttonGroup);\n",
       "            }\n",
       "            buttonGroup = document.createElement('div');\n",
       "            buttonGroup.classList = 'btn-group';\n",
       "            continue;\n",
       "        }\n",
       "\n",
       "        button = fig.buttons[name] = document.createElement('button');\n",
       "        button.classList = 'btn btn-default';\n",
       "        button.href = '#';\n",
       "        button.title = name;\n",
       "        button.innerHTML = '<i class=\"fa ' + image + ' fa-lg\"></i>';\n",
       "        button.addEventListener('click', on_click_closure(method_name));\n",
       "        button.addEventListener('mouseover', on_mouseover_closure(tooltip));\n",
       "        buttonGroup.appendChild(button);\n",
       "    }\n",
       "\n",
       "    if (buttonGroup.hasChildNodes()) {\n",
       "        toolbar.appendChild(buttonGroup);\n",
       "    }\n",
       "\n",
       "    // Add the status bar.\n",
       "    var status_bar = document.createElement('span');\n",
       "    status_bar.classList = 'mpl-message pull-right';\n",
       "    toolbar.appendChild(status_bar);\n",
       "    this.message = status_bar;\n",
       "\n",
       "    // Add the close button to the window.\n",
       "    var buttongrp = document.createElement('div');\n",
       "    buttongrp.classList = 'btn-group inline pull-right';\n",
       "    button = document.createElement('button');\n",
       "    button.classList = 'btn btn-mini btn-primary';\n",
       "    button.href = '#';\n",
       "    button.title = 'Stop Interaction';\n",
       "    button.innerHTML = '<i class=\"fa fa-power-off icon-remove icon-large\"></i>';\n",
       "    button.addEventListener('click', function (_evt) {\n",
       "        fig.handle_close(fig, {});\n",
       "    });\n",
       "    button.addEventListener(\n",
       "        'mouseover',\n",
       "        on_mouseover_closure('Stop Interaction')\n",
       "    );\n",
       "    buttongrp.appendChild(button);\n",
       "    var titlebar = this.root.querySelector('.ui-dialog-titlebar');\n",
       "    titlebar.insertBefore(buttongrp, titlebar.firstChild);\n",
       "};\n",
       "\n",
       "mpl.figure.prototype._remove_fig_handler = function (event) {\n",
       "    var fig = event.data.fig;\n",
       "    if (event.target !== this) {\n",
       "        // Ignore bubbled events from children.\n",
       "        return;\n",
       "    }\n",
       "    fig.close_ws(fig, {});\n",
       "};\n",
       "\n",
       "mpl.figure.prototype._root_extra_style = function (el) {\n",
       "    el.style.boxSizing = 'content-box'; // override notebook setting of border-box.\n",
       "};\n",
       "\n",
       "mpl.figure.prototype._canvas_extra_style = function (el) {\n",
       "    // this is important to make the div 'focusable\n",
       "    el.setAttribute('tabindex', 0);\n",
       "    // reach out to IPython and tell the keyboard manager to turn it's self\n",
       "    // off when our div gets focus\n",
       "\n",
       "    // location in version 3\n",
       "    if (IPython.notebook.keyboard_manager) {\n",
       "        IPython.notebook.keyboard_manager.register_events(el);\n",
       "    } else {\n",
       "        // location in version 2\n",
       "        IPython.keyboard_manager.register_events(el);\n",
       "    }\n",
       "};\n",
       "\n",
       "mpl.figure.prototype._key_event_extra = function (event, _name) {\n",
       "    var manager = IPython.notebook.keyboard_manager;\n",
       "    if (!manager) {\n",
       "        manager = IPython.keyboard_manager;\n",
       "    }\n",
       "\n",
       "    // Check for shift+enter\n",
       "    if (event.shiftKey && event.which === 13) {\n",
       "        this.canvas_div.blur();\n",
       "        // select the cell after this one\n",
       "        var index = IPython.notebook.find_cell_index(this.cell_info[0]);\n",
       "        IPython.notebook.select(index + 1);\n",
       "    }\n",
       "};\n",
       "\n",
       "mpl.figure.prototype.handle_save = function (fig, _msg) {\n",
       "    fig.ondownload(fig, null);\n",
       "};\n",
       "\n",
       "mpl.find_output_cell = function (html_output) {\n",
       "    // Return the cell and output element which can be found *uniquely* in the notebook.\n",
       "    // Note - this is a bit hacky, but it is done because the \"notebook_saving.Notebook\"\n",
       "    // IPython event is triggered only after the cells have been serialised, which for\n",
       "    // our purposes (turning an active figure into a static one), is too late.\n",
       "    var cells = IPython.notebook.get_cells();\n",
       "    var ncells = cells.length;\n",
       "    for (var i = 0; i < ncells; i++) {\n",
       "        var cell = cells[i];\n",
       "        if (cell.cell_type === 'code') {\n",
       "            for (var j = 0; j < cell.output_area.outputs.length; j++) {\n",
       "                var data = cell.output_area.outputs[j];\n",
       "                if (data.data) {\n",
       "                    // IPython >= 3 moved mimebundle to data attribute of output\n",
       "                    data = data.data;\n",
       "                }\n",
       "                if (data['text/html'] === html_output) {\n",
       "                    return [cell, data, j];\n",
       "                }\n",
       "            }\n",
       "        }\n",
       "    }\n",
       "};\n",
       "\n",
       "// Register the function which deals with the matplotlib target/channel.\n",
       "// The kernel may be null if the page has been refreshed.\n",
       "if (IPython.notebook.kernel !== null) {\n",
       "    IPython.notebook.kernel.comm_manager.register_target(\n",
       "        'matplotlib',\n",
       "        mpl.mpl_figure_comm\n",
       "    );\n",
       "}\n"
      ],
      "text/plain": [
       "<IPython.core.display.Javascript object>"
      ]
     },
     "metadata": {},
     "output_type": "display_data"
    },
    {
     "data": {
      "text/html": [
       "<img src=\"data:image/png;base64,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\" width=\"1406.08\">"
      ],
      "text/plain": [
       "<IPython.core.display.HTML object>"
      ]
     },
     "metadata": {},
     "output_type": "display_data"
    }
   ],
   "source": [
    "%matplotlib notebook\n",
    "from matplotlib.animation import FuncAnimation\n",
    "import matplotlib.animation as animation\n",
    "\n",
    "# intercept graph\n",
    "num_epochs = list(range(0,30))\n",
    "fig = plt.figure(figsize=(9,5)) \n",
    "axis = plt.axes(xlim =(-150, 150), ylim =(-150, 150)) \n",
    "\n",
    "axis.contourf(m_arr, b_arr, z_arr)\n",
    "\n",
    "line, = axis.plot([], [], lw = 2,color='white') \n",
    "  \n",
    "xdata, ydata = [], [] \n",
    "  \n",
    "# animation function \n",
    "def animate(i): \n",
    "    label = 'epoch {0}'.format(i + 1)\n",
    "    xdata.append(all_m[i]) \n",
    "    ydata.append(all_b[i]) \n",
    "    line.set_data(xdata, ydata) \n",
    "    axis.set_xlabel(label)\n",
    "      \n",
    "    return line, \n",
    "  \n",
    "# calling the animation function     \n",
    "anim = animation.FuncAnimation(fig, animate, frames = 30,repeat=False, interval = 500)\n",
    "\n",
    "#f = r\"animation8.gif\" \n",
    "#writergif = animation.PillowWriter(fps=2) \n",
    "#anim.save(f, writer=writergif)"
   ]
  },
  {
   "cell_type": "code",
   "execution_count": null,
   "id": "b00cfe6c",
   "metadata": {},
   "outputs": [],
   "source": []
  }
 ],
 "metadata": {
  "kernelspec": {
   "display_name": "Python 3",
   "language": "python",
   "name": "python3"
  },
  "language_info": {
   "codemirror_mode": {
    "name": "ipython",
    "version": 3
   },
   "file_extension": ".py",
   "mimetype": "text/x-python",
   "name": "python",
   "nbconvert_exporter": "python",
   "pygments_lexer": "ipython3",
   "version": "3.8.8"
  }
 },
 "nbformat": 4,
 "nbformat_minor": 5
}
