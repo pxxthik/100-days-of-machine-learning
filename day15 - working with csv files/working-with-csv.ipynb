{
 "cells": [
  {
   "cell_type": "code",
   "execution_count": 1,
   "id": "4ad9c749",
   "metadata": {},
   "outputs": [],
   "source": [
    "import pandas as pd"
   ]
  },
  {
   "cell_type": "code",
   "execution_count": 2,
   "id": "ca6a94c3",
   "metadata": {},
   "outputs": [],
   "source": [
    "df = pd.read_csv(\"aug_train.csv\")"
   ]
  },
  {
   "cell_type": "code",
   "execution_count": 3,
   "id": "197ad9b7",
   "metadata": {},
   "outputs": [],
   "source": [
    "# CSV => Comma Seperated Values\n",
    "# TSV => Tab seperated Values\n",
    "\n",
    "df = pd.read_csv(\"movie_titles_metadata.tsv\", sep='\\t', names=['sno', 'name', 'release', 'ratings', 'votes', 'generes'])"
   ]
  },
  {
   "cell_type": "code",
   "execution_count": 4,
   "id": "aac042bc",
   "metadata": {},
   "outputs": [],
   "source": [
    "df = pd.read_csv(\"aug_train.csv\", index_col='enrollee_id')"
   ]
  },
  {
   "cell_type": "code",
   "execution_count": 5,
   "id": "081b1954",
   "metadata": {},
   "outputs": [],
   "source": [
    "df = pd.read_csv(\"test.csv\", header=1)"
   ]
  },
  {
   "cell_type": "code",
   "execution_count": 6,
   "id": "2903dd86",
   "metadata": {},
   "outputs": [],
   "source": [
    "df = pd.read_csv(\"aug_train.csv\", usecols=['enrollee_id', 'gender', 'experience'])"
   ]
  },
  {
   "cell_type": "code",
   "execution_count": 7,
   "id": "aba561bc",
   "metadata": {},
   "outputs": [],
   "source": [
    "df = pd.read_csv(\"aug_train.csv\", usecols=['enrollee_id']).squeeze(1)"
   ]
  },
  {
   "cell_type": "code",
   "execution_count": 8,
   "id": "60442deb",
   "metadata": {},
   "outputs": [],
   "source": [
    "df = pd.read_csv(\"aug_train.csv\", skiprows=[0,1])"
   ]
  },
  {
   "cell_type": "code",
   "execution_count": 9,
   "id": "4f47490a",
   "metadata": {},
   "outputs": [],
   "source": [
    "df = pd.read_csv(\"aug_train.csv\", nrows=100)"
   ]
  },
  {
   "cell_type": "code",
   "execution_count": 10,
   "id": "583f5ebb",
   "metadata": {},
   "outputs": [],
   "source": [
    "df = pd.read_csv(\"zomato.csv\", encoding='latin-1')"
   ]
  },
  {
   "cell_type": "code",
   "execution_count": 12,
   "id": "71a042d4",
   "metadata": {},
   "outputs": [],
   "source": [
    "# Skips the bad lines\n",
    "# pd.read_csv(\"BX-Books.csv\", spe=';', encoding='latin-1', error_bad_lines=False)"
   ]
  },
  {
   "cell_type": "code",
   "execution_count": 21,
   "id": "6fa8377f",
   "metadata": {},
   "outputs": [],
   "source": [
    "df = pd.read_csv('aug_train.csv', dtype={\"target\": int})"
   ]
  },
  {
   "cell_type": "code",
   "execution_count": 26,
   "id": "23780fe9",
   "metadata": {},
   "outputs": [],
   "source": [
    "df = pd.read_csv('IPL Matches 2008-2020.csv', parse_dates=['date'])"
   ]
  },
  {
   "cell_type": "code",
   "execution_count": 30,
   "id": "93ab2eb9",
   "metadata": {},
   "outputs": [],
   "source": [
    "def rename(name):\n",
    "    name = name.split(\" \")\n",
    "    short_name = ''\n",
    "    for word in name:\n",
    "        short_name += word[0]\n",
    "    return short_name"
   ]
  },
  {
   "cell_type": "code",
   "execution_count": 37,
   "id": "eee8ea50",
   "metadata": {},
   "outputs": [],
   "source": [
    "df = pd.read_csv('IPL Matches 2008-2020.csv', converters={'team1': rename, 'team2': rename})"
   ]
  },
  {
   "cell_type": "code",
   "execution_count": 40,
   "id": "e89b11fc",
   "metadata": {},
   "outputs": [],
   "source": [
    "df = pd.read_csv(\"aug_train.csv\", na_values=['Male'])"
   ]
  },
  {
   "cell_type": "code",
   "execution_count": 57,
   "id": "74266216",
   "metadata": {},
   "outputs": [],
   "source": [
    "dfs = pd.read_csv(\"aug_train.csv\", chunksize=1024*4)"
   ]
  },
  {
   "cell_type": "code",
   "execution_count": 59,
   "id": "31bbc313",
   "metadata": {},
   "outputs": [
    {
     "name": "stdout",
     "output_type": "stream",
     "text": [
      "(4096, 14)\n",
      "(4096, 14)\n",
      "(4096, 14)\n",
      "(2774, 14)\n"
     ]
    }
   ],
   "source": [
    "for chunks in dfs:\n",
    "    print(chunks.shape)"
   ]
  },
  {
   "cell_type": "code",
   "execution_count": null,
   "id": "0a97fb6f",
   "metadata": {},
   "outputs": [],
   "source": []
  }
 ],
 "metadata": {
  "kernelspec": {
   "display_name": "Python 3 (ipykernel)",
   "language": "python",
   "name": "python3"
  },
  "language_info": {
   "codemirror_mode": {
    "name": "ipython",
    "version": 3
   },
   "file_extension": ".py",
   "mimetype": "text/x-python",
   "name": "python",
   "nbconvert_exporter": "python",
   "pygments_lexer": "ipython3",
   "version": "3.10.7"
  }
 },
 "nbformat": 4,
 "nbformat_minor": 5
}
